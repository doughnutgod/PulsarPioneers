{
 "cells": [
  {
   "cell_type": "code",
   "execution_count": 70,
   "id": "428a1f38",
   "metadata": {},
   "outputs": [
    {
     "name": "stdout",
     "output_type": "stream",
     "text": [
      "   Pulse Number  Area Under the Pulse (Brightness)  Uncertainty\n",
      "0             1                           0.598393     0.056431\n",
      "1             2                           0.590859     0.055182\n",
      "2             3                           0.449643     0.063632\n",
      "3             4                           0.682860     0.056269\n",
      "4             5                           0.490026     0.046830\n"
     ]
    }
   ],
   "source": [
    "import pandas as pd\n",
    "colnames = ['Pulse Number', 'Area Under the Pulse (Brightness)', 'Uncertainty'] # set the column names (taken from google doc)\n",
    "df = pd.read_csv(\"J0437-4715.pulses\", sep = ' ', header = None, names = colnames)\n",
    "\n",
    "print(df.head())"
   ]
  },
  {
   "cell_type": "code",
   "execution_count": 93,
   "id": "aa0c918e",
   "metadata": {},
   "outputs": [
    {
     "name": "stdout",
     "output_type": "stream",
     "text": [
      "Mean Brightness:  0.5364004373851874\n"
     ]
    }
   ],
   "source": [
    "print(\"Mean Brightness: \", df[\"Area Under the Pulse (Brightness)\"].mean()) # average of the AUTP column"
   ]
  },
  {
   "cell_type": "code",
   "execution_count": 92,
   "id": "cb43ac45",
   "metadata": {},
   "outputs": [
    {
     "name": "stdout",
     "output_type": "stream",
     "text": [
      "Median Brightness:  0.42381595\n"
     ]
    }
   ],
   "source": [
    "print(\"Median Brightness: \", df[\"Area Under the Pulse (Brightness)\"].median()) # median of the AUTP column"
   ]
  },
  {
   "cell_type": "code",
   "execution_count": 89,
   "id": "57bab8ed",
   "metadata": {},
   "outputs": [
    {
     "name": "stdout",
     "output_type": "stream",
     "text": [
      "Maximum Brightness:\n",
      "  Pulse Number  Area Under the Pulse (Brightness)  Uncertainty\n",
      "         9173                           18.72241     2.991331\n"
     ]
    }
   ],
   "source": [
    "idx_max = df[\"Area Under the Pulse (Brightness)\"].idxmax() # index of the row with the maximum area under the pulse (brightness)\n",
    "print(\"Maximum Brightness:\\n\", df.loc[[idx_max]].to_string(index=False)) # print the row with the maximum AUTP without the index"
   ]
  },
  {
   "cell_type": "code",
   "execution_count": 88,
   "id": "338849c8",
   "metadata": {},
   "outputs": [
    {
     "name": "stdout",
     "output_type": "stream",
     "text": [
      "Minimum Brightness:\n",
      "  Pulse Number  Area Under the Pulse (Brightness)  Uncertainty\n",
      "         9158                          -5.114133     1.926569\n"
     ]
    }
   ],
   "source": [
    "idx_min = df[\"Area Under the Pulse (Brightness)\"].idxmin()\n",
    "print(\"Minimum Brightness:\\n\", df.loc[[idx_min]].to_string(index=False))"
   ]
  },
  {
   "cell_type": "code",
   "execution_count": 94,
   "id": "2891eba3",
   "metadata": {},
   "outputs": [
    {
     "data": {
      "image/png": "[encoded data removed]",
      "text/plain": [
       "<Figure size 432x288 with 1 Axes>"
      ]
     },
     "metadata": {
      "needs_background": "light"
     },
     "output_type": "display_data"
    }
   ],
   "source": [
    "import matplotlib.pyplot as plt\n",
    "\n",
    "plt.scatter(x = df[\"Pulse Number\"], y = df[\"Area Under the Pulse (Brightness)\"], s = 2)\n",
    "\n",
    "plt.show()"
   ]
  },
  {
   "cell_type": "code",
   "execution_count": null,
   "id": "01a09d1f",
   "metadata": {},
   "outputs": [],
   "source": []
  },
  {
   "cell_type": "code",
   "execution_count": null,
   "id": "d3401f0a",
   "metadata": {},
   "outputs": [],
   "source": []
  },
  {
   "cell_type": "code",
   "execution_count": null,
   "id": "d2f9914b",
   "metadata": {},
   "outputs": [],
   "source": []
  }
 ],
 "metadata": {
  "kernelspec": {
   "display_name": "Python 3 (ipykernel)",
   "language": "python",
   "name": "python3"
  },
  "language_info": {
   "codemirror_mode": {
    "name": "ipython",
    "version": 3
   },
   "file_extension": ".py",
   "mimetype": "text/x-python",
   "name": "python",
   "nbconvert_exporter": "python",
   "pygments_lexer": "ipython3",
   "version": "3.9.12"
  }
 },
 "nbformat": 4,
 "nbformat_minor": 5
}
