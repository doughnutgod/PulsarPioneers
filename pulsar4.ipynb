{
 "cells": [
  {
   "cell_type": "markdown",
   "id": "1bcc019c",
   "metadata": {},
   "source": [
    "# Pulsar Emission Data Analysis"
   ]
  },
  {
   "cell_type": "markdown",
   "id": "7c65b2e0",
   "metadata": {},
   "source": [
    "# All Imports that may or may not be needed and used for the notebook\n"
   ]
  },
  {
   "cell_type": "code",
   "execution_count": null,
   "id": "e9366d9f",
   "metadata": {},
   "outputs": [],
   "source": [
    "#currently including any and all Imports that maybe needed for the project.\n",
    "import pandas as pd\n",
    "import numpy as np\n",
    "import seaborn as sns\n",
    "import matplotlib.pyplot as plt\n",
    "%matplotlib inline\n",
    "from sklearn.model_selection import train_test_split\n",
    "from sklearn import linear_model\n",
    "from sklearn.metrics import r2_score, mean_squared_error\n",
    "from sklearn.linear_model import LogisticRegression, LinearRegression\n",
    "from sklearn.metrics import confusion_matrix, accuracy_score\n",
    "from sklearn.feature_selection import RFE\n",
    "import datetime as dt\n",
    "from sklearn.cluster import KMeans\n",
    "from sklearn.metrics import pairwise_distances\n",
    "from scipy.cluster.hierarchy import linkage, dendrogram, cut_tree\n",
    "from scipy.spatial.distance import pdist \n",
    "from sklearn.feature_extraction.text import TfidfVectorizer\n",
    "import matplotlib.dates as mdates\n",
    "from scipy.stats import pearsonr\n",
    "from scipy import stats\n",
    "import statistics\n",
    "import math\n",
    "from statsmodels.graphics.tsaplots import plot_acf, plot_pacf\n",
    "from statsmodels.tsa.stattools import acf, pacf\n",
    "from statsmodels.tsa.tsatools import lagmat\n",
    "from numpy import array\n",
    "from sklearn.model_selection import train_test_split\n",
    "from keras.models import Sequential\n",
    "from keras.layers import LSTM\n",
    "from keras.layers import Dense\n",
    "from keras.layers import Bidirectional"
   ]
  },
  {
   "cell_type": "markdown",
   "id": "64419032",
   "metadata": {},
   "source": [
    "# Section for extracting from a tar file. #\n",
    "\n",
    "##### Currently implemented for original TAR File structure."
   ]
  },
  {
   "cell_type": "code",
   "execution_count": null,
   "id": "fce652f1",
   "metadata": {},
   "outputs": [],
   "source": [
    "#This is also found in the main file under tarunzip.py\n",
    "import tarfile\n",
    "import os\n",
    "import sys\n",
    "\n",
    "#tar = tarfile.open(\"pulseTarFile.tar\")\n",
    "#tar.extractall('./Data')\n",
    "#tar.close()"
   ]
  },
  {
   "cell_type": "markdown",
   "id": "e3393aa9",
   "metadata": {},
   "source": [
    "## Beginning of Exploration\n",
    "\n",
    "### Examining the data\n",
    "\n",
    "In this section we are determining the total integrity of the data to determine if further comprehensive data cleaning and uniforming processes are needed."
   ]
  },
  {
   "cell_type": "code",
   "execution_count": null,
   "id": "b67d6eb2",
   "metadata": {},
   "outputs": [],
   "source": [
    "colnames = ['Pulse Number', 'Brightness', 'Uncertainty']\n",
    "pulsar = pd.read_csv(\"Data/J1243-6423.pulses\", sep = ' ', header = None, names = colnames)"
   ]
  },
  {
   "cell_type": "code",
   "execution_count": null,
   "id": "fd6a07e2",
   "metadata": {},
   "outputs": [],
   "source": [
    "pulsar.shape"
   ]
  },
  {
   "cell_type": "code",
   "execution_count": null,
   "id": "19e390ee",
   "metadata": {},
   "outputs": [],
   "source": [
    "pulsar.head(25)"
   ]
  },
  {
   "cell_type": "code",
   "execution_count": null,
   "id": "b347c7df",
   "metadata": {},
   "outputs": [],
   "source": [
    "pulsar.describe()"
   ]
  },
  {
   "cell_type": "code",
   "execution_count": null,
   "id": "e72e5aa0",
   "metadata": {},
   "outputs": [],
   "source": [
    "nullBoolBrightness = pd.isnull(pulsar[\"Brightness\"])\n",
    "\n",
    "pulsar[nullBoolBrightness]"
   ]
  },
  {
   "cell_type": "code",
   "execution_count": null,
   "id": "e93ecfa3",
   "metadata": {},
   "outputs": [],
   "source": [
    "pulsar[\"Brightness\"].describe()"
   ]
  },
  {
   "cell_type": "code",
   "execution_count": null,
   "id": "b8212723",
   "metadata": {},
   "outputs": [],
   "source": [
    "plt.figure(figsize=(20,10))\n",
    "sns.set_theme(style=\"whitegrid\")\n",
    "ax = sns.boxplot(x=pulsar[\"Brightness\"]).set_title(\"Boxplot of Pulsar 6 Emission Strength\")"
   ]
  },
  {
   "cell_type": "code",
   "execution_count": null,
   "id": "accd8ef3",
   "metadata": {},
   "outputs": [],
   "source": [
    "medianpulse6 = pulsar[\"Brightness\"].median()\n",
    "print(\"Median of Pulsar6: \", medianpulse6)\n",
    "pulsar['Binary'] = np.where(pulsar['Brightness'] > medianpulse6, 1, 0)"
   ]
  },
  {
   "cell_type": "code",
   "execution_count": null,
   "id": "0371a4fd",
   "metadata": {},
   "outputs": [],
   "source": [
    "pulsar"
   ]
  },
  {
   "cell_type": "code",
   "execution_count": null,
   "id": "512b29cf",
   "metadata": {},
   "outputs": [],
   "source": [
    "plt.figure(figsize=(20,10))\n",
    "sns.set_style(\"darkgrid\", {\"axes.facecolor\": \".75\"})\n",
    "strength = pulsar.Brightness.values\n",
    "plt.style.use('ggplot')\n",
    "ax = sns.scatterplot(data=pulsar[\"Brightness\"], s= strength*50, c=strength, cmap=\"viridis\", marker=\"o\").set_title('Pulsar 6 Scatterplot color hued of Emission Strength')\n",
    "ax= plt.axhline( y=0.07665979, ls='-',c='mediumslateblue')"
   ]
  },
  {
   "cell_type": "code",
   "execution_count": null,
   "id": "bace06d1",
   "metadata": {},
   "outputs": [],
   "source": [
    "print(len(pulsar[(pulsar.Brightness > 0.07665979)]))\n",
    "print(len(pulsar[(pulsar.Brightness < 0.07665979)]))"
   ]
  },
  {
   "cell_type": "code",
   "execution_count": null,
   "id": "2cc4bcd3",
   "metadata": {},
   "outputs": [],
   "source": [
    "plt.figure(figsize=(20,10))\n",
    "sns.set_style(\"darkgrid\", {\"axes.facecolor\": \".75\"})\n",
    "strength = pulsar.Brightness.values\n",
    "ax = plt.axhline( y=0.07665979, ls='-',c='mediumslateblue')\n",
    "ax = sns.swarmplot(data=pulsar[\"Brightness\"], c=\"blue\").set_title('Pulsar 6 Swarm plot of Emission Strength')\n"
   ]
  },
  {
   "cell_type": "code",
   "execution_count": null,
   "id": "4dd27c79",
   "metadata": {},
   "outputs": [],
   "source": [
    "plt.figure(figsize=(10, 16))\n",
    "with sns.axes_style('darkgrid'):\n",
    "    sns.distplot(pulsar.Brightness)\n",
    "plt.title(\"distribution of Pulsar 6 Brightness\")"
   ]
  },
  {
   "cell_type": "code",
   "execution_count": null,
   "id": "ac84200c",
   "metadata": {
    "scrolled": true
   },
   "outputs": [],
   "source": [
    "plt.figure(figsize=(10, 16))\n",
    "with sns.axes_style('darkgrid'):\n",
    "    sns.distplot(pulsar.Binary)\n",
    "plt.title(\"distribution of Pulsar 6 binary assignments\")"
   ]
  },
  {
   "cell_type": "markdown",
   "id": "79310a99",
   "metadata": {},
   "source": [
    "# Rolling Medians, Rolling Means, Binned Medians and Binned Mean analysis."
   ]
  },
  {
   "cell_type": "code",
   "execution_count": null,
   "id": "546bc7d9",
   "metadata": {},
   "outputs": [],
   "source": [
    "data = pulsar[\"Brightness\"]\n",
    "data"
   ]
  },
  {
   "cell_type": "code",
   "execution_count": null,
   "id": "479e7b05",
   "metadata": {},
   "outputs": [],
   "source": [
    "dataPDF = stats.maxwell.pdf(data)\n",
    "bin_means, bin_edges, binnumber = stats.binned_statistic(data, dataPDF,\n",
    "        statistic='mean', bins=15)\n",
    "bin_width = (bin_edges[1] - bin_edges[0])\n",
    "bin_centers = bin_edges[1:] - bin_width/2\n",
    "\n",
    "plt.figure()\n",
    "plt.hist(data, bins=30, density=True, histtype='stepfilled', alpha=0.3, label='Histogram of Brightness Data')\n",
    "plt.plot(data, dataPDF, '--', label = \"Analytical pdf\")\n",
    "plt.hlines(bin_means, bin_edges[:-1], bin_edges[1:], colors='purple', lw=5, label='Binned Stat of Data')\n",
    "plt.plot((binnumber - 0.5) * bin_width, dataPDF, 'g.', alpha=0.5)\n",
    "plt.legend(fontsize=10)\n",
    "plt.show()"
   ]
  },
  {
   "cell_type": "code",
   "execution_count": null,
   "id": "c80b1da5",
   "metadata": {},
   "outputs": [],
   "source": [
    "bin_median, bin_edges, binnumber = stats.binned_statistic(data, dataPDF,\n",
    "        statistic='median', bins=10)\n",
    "bin_width = (bin_edges[1] - bin_edges[0])\n",
    "bin_centers = bin_edges[1:] - bin_width/2\n",
    "\n",
    "plt.figure()\n",
    "plt.hist(data, bins=30, density=True, histtype='stepfilled', alpha=0.3, label='Histogram of Brightness Data')\n",
    "plt.plot(data, dataPDF, ':', label = \"Analytical pdf\", lw=0.5)\n",
    "plt.hlines(bin_median, bin_edges[:-1], bin_edges[1:], colors='purple', lw=4, label='Binned Stat of Data')\n",
    "plt.plot((binnumber - 0.5) * bin_width, dataPDF, 'g.', alpha=0.5)\n",
    "plt.legend(fontsize=10)\n",
    "plt.show()"
   ]
  },
  {
   "cell_type": "code",
   "execution_count": null,
   "id": "3dea5a44",
   "metadata": {},
   "outputs": [],
   "source": [
    "pulsar['RollingMeanEmissions5ths'] = pulsar[\"Brightness\"].rolling(5).mean()\n",
    "\n",
    "plt.plot(pulsar['RollingMeanEmissions5ths'], label=\"Rolling Mean at 5ths\", lw=5)\n",
    "plt.plot(pulsar['Brightness'], label= \"Raw Emission Data\", linestyle='--')\n",
    "plt.legend()\n",
    "plt.ylabel('Emission Strength')\n",
    "plt.xlabel('Emission Number')\n",
    "plt.show()"
   ]
  },
  {
   "cell_type": "code",
   "execution_count": null,
   "id": "2b227834",
   "metadata": {},
   "outputs": [],
   "source": [
    "pulsar['RollingMeanEmissions10ths'] = pulsar[\"Brightness\"].rolling(10).mean()\n",
    "\n",
    "plt.plot(pulsar['RollingMeanEmissions10ths'], label=\"Rolling Mean at 10ths\", lw=5)\n",
    "plt.plot(pulsar['Brightness'], label= \"Raw Emission Data\", linestyle='--')\n",
    "plt.legend()\n",
    "plt.ylabel('Emission Strength')\n",
    "plt.xlabel('Emission Number')\n",
    "plt.show()"
   ]
  },
  {
   "cell_type": "code",
   "execution_count": null,
   "id": "12baa0b5",
   "metadata": {},
   "outputs": [],
   "source": [
    "pulsar['RollingMedianEmissions5ths'] = pulsar[\"Brightness\"].rolling(5).median()\n",
    "\n",
    "plt.plot(pulsar['RollingMedianEmissions5ths'], label=\"Rolling median at 5ths\", lw=5)\n",
    "plt.plot(pulsar['Brightness'], label= \"Raw Emission Data\", linestyle='--')\n",
    "plt.legend()\n",
    "plt.ylabel('Emission Strength')\n",
    "plt.xlabel('Emission Number')\n",
    "plt.show()"
   ]
  },
  {
   "cell_type": "code",
   "execution_count": null,
   "id": "704417c0",
   "metadata": {},
   "outputs": [],
   "source": [
    "pulsar['RollingMedianEmissions10ths'] = pulsar[\"Brightness\"].rolling(10).median()\n",
    "\n",
    "plt.plot(pulsar['RollingMedianEmissions10ths'], label=\"Rolling median at 10ths\", lw=5)\n",
    "plt.plot(pulsar['Brightness'], label= \"Raw Emission Data\", linestyle='--')\n",
    "plt.legend()\n",
    "plt.ylabel('Emission Strength')\n",
    "plt.xlabel('Emission Number')\n",
    "plt.show()"
   ]
  },
  {
   "cell_type": "code",
   "execution_count": null,
   "id": "aa2f5426",
   "metadata": {},
   "outputs": [],
   "source": [
    "pulsar.head(25)"
   ]
  },
  {
   "cell_type": "markdown",
   "id": "d7f5fd90",
   "metadata": {},
   "source": [
    "## Binary Classification"
   ]
  },
  {
   "cell_type": "code",
   "execution_count": null,
   "id": "8c9cdd5f",
   "metadata": {},
   "outputs": [],
   "source": [
    "X = pulsar[['Brightness', 'Uncertainty']]\n",
    "y = pulsar['Binary']"
   ]
  },
  {
   "cell_type": "code",
   "execution_count": null,
   "id": "6929f8fd",
   "metadata": {},
   "outputs": [],
   "source": [
    "X.head()"
   ]
  },
  {
   "cell_type": "code",
   "execution_count": null,
   "id": "09a0a13b",
   "metadata": {
    "scrolled": true
   },
   "outputs": [],
   "source": [
    "y.head()"
   ]
  },
  {
   "cell_type": "code",
   "execution_count": null,
   "id": "f6bee024",
   "metadata": {},
   "outputs": [],
   "source": [
    "from sklearn.model_selection import train_test_split\n",
    "\n",
    "X_train, X_test, y_train, y_test = train_test_split(X, y , test_size=0.20)"
   ]
  },
  {
   "cell_type": "code",
   "execution_count": null,
   "id": "f308ed0e",
   "metadata": {},
   "outputs": [],
   "source": [
    "from sklearn.preprocessing import StandardScaler\n",
    "\n",
    "train_scaler = StandardScaler()\n",
    "X_train = train_scaler.fit_transform(X_train)\n",
    "\n",
    "test_scaler = StandardScaler()\n",
    "X_test = test_scaler.fit_transform(X_test)"
   ]
  },
  {
   "cell_type": "code",
   "execution_count": null,
   "id": "e87564b0",
   "metadata": {},
   "outputs": [],
   "source": [
    "model = LogisticRegression()\n",
    "\n",
    "model.fit(X_train, y_train)"
   ]
  },
  {
   "cell_type": "code",
   "execution_count": null,
   "id": "717ecad2",
   "metadata": {},
   "outputs": [],
   "source": [
    "predictions = model.predict(X_test)"
   ]
  },
  {
   "cell_type": "code",
   "execution_count": null,
   "id": "8a4d1085",
   "metadata": {},
   "outputs": [],
   "source": [
    "from sklearn.metrics import confusion_matrix\n",
    "\n",
    "cm = confusion_matrix(y_test, predictions)\n",
    "\n",
    "TN, FP, FN, TP = confusion_matrix(y_test, predictions).ravel()\n",
    "\n",
    "print('True Positive(TP)  = ', TP)\n",
    "print('False Positive(FP) = ', FP)\n",
    "print('True Negative(TN)  = ', TN)\n",
    "print('False Negative(FN) = ', FN)"
   ]
  },
  {
   "cell_type": "code",
   "execution_count": null,
   "id": "ce2cd431",
   "metadata": {
    "scrolled": true
   },
   "outputs": [],
   "source": [
    "accuracy =  (TP + TN) / (TP + FP + TN + FN)\n",
    "\n",
    "print(\"Accuracy of the model is \", accuracy)"
   ]
  },
  {
   "cell_type": "markdown",
   "id": "6c317009",
   "metadata": {},
   "source": [
    "## Bidirectional LSTM Model"
   ]
  },
  {
   "cell_type": "code",
   "execution_count": null,
   "id": "4775f68c",
   "metadata": {
    "scrolled": false
   },
   "outputs": [],
   "source": [
    "brightness_list = list(pulsar['Brightness'])\n",
    "brightness_list[:10]"
   ]
  },
  {
   "cell_type": "code",
   "execution_count": null,
   "id": "69ef54f3",
   "metadata": {},
   "outputs": [],
   "source": [
    "def split_list(blist, steps):\n",
    "    X, y = list(), list()\n",
    "    for i in range(len(blist)):\n",
    "        # find the end of this pattern\n",
    "        end_ix = i + steps\n",
    "        # check if we are beyond the sequence\n",
    "        if end_ix > len(blist)-1:\n",
    "            break\n",
    "        # gather input and output parts of the pattern\n",
    "        list_x, list_y = blist[i:end_ix], blist[end_ix]\n",
    "        X.append(list_x)\n",
    "        y.append(list_y)\n",
    "    return array(X), array(y)"
   ]
  },
  {
   "cell_type": "code",
   "execution_count": null,
   "id": "87d95d6c",
   "metadata": {},
   "outputs": [],
   "source": [
    "X, y = split_list(brightness_list, 100)\n",
    "X = X.reshape((X.shape[0], X.shape[1], 1))\n",
    "X[:1]"
   ]
  },
  {
   "cell_type": "code",
   "execution_count": null,
   "id": "0adc1800",
   "metadata": {},
   "outputs": [],
   "source": [
    "X_train, X_test, y_train, y_test = train_test_split(X, y , test_size=0.20)"
   ]
  },
  {
   "cell_type": "code",
   "execution_count": null,
   "id": "bc2cdca3",
   "metadata": {},
   "outputs": [],
   "source": [
    "model = Sequential()\n",
    "model.add(Bidirectional(LSTM(50, activation='relu'), input_shape=(100, 1)))\n",
    "model.add(Dense(8, activation='relu'))\n",
    "model.add(Dense(1, activation='sigmoid'))\n",
    "model.compile(loss='binary_crossentropy', optimizer='adam', metrics=['accuracy'])"
   ]
  },
  {
   "cell_type": "code",
   "execution_count": null,
   "id": "720a8e5f",
   "metadata": {},
   "outputs": [],
   "source": [
    "history = model.fit(X_train, y_train, epochs=50, verbose=1, batch_size=10)"
   ]
  },
  {
   "cell_type": "code",
   "execution_count": null,
   "id": "19870538",
   "metadata": {},
   "outputs": [],
   "source": [
    "y_pred = model.predict(X_test, verbose=0)\n",
    "y_pred[:10]"
   ]
  },
  {
   "cell_type": "code",
   "execution_count": null,
   "id": "62f5d5c0",
   "metadata": {},
   "outputs": [],
   "source": [
    "model.evaluate(X_test, y_test)"
   ]
  },
  {
   "cell_type": "markdown",
   "id": "414ea338",
   "metadata": {},
   "source": [
    "## ML Evaluation.\n",
    "\n",
    "### Logistic Regression\n",
    "\n",
    "This model appears to have gained some insight in the data and accurately defined a majority of the data. The accuracy of the model is >95% which indicates that it was able to determine a trend and apply it in a useful manner in the predictions during evaluation. Further, the confusion matrix further supports the high accuracy and likely usefulness of the model with only 3 false assignments. However, in analysis this is only to determine if there is a correlation between binary assignment and the emission strength x error in measurement. This doesn't aid us in our overall randomness determination, but it does determine that uncertainty has a role in the binary assignment and the overall trust of emission strength.\n",
    "\n",
    "### Bidirectional LSTM\n",
    "\n",
    "This model is very error prone as the loss value is consistently at 60& or higher at every epoch during training and at exactly 63.07% in evaluation with a 0% accuracy this indicates that there is either a great error in the formation of the model, data used or trend being obtained. Alternatively it could indicate that there is no trend there to predict. Likely this indicates that the model is not valuable for any meaningful analysis."
   ]
  },
  {
   "cell_type": "markdown",
   "id": "a49a3096",
   "metadata": {},
   "source": [
    "# Preliminary runs test\n",
    "### Math Logic\n",
    "\n",
    "$$ Z = {R - \\tilde{R} \\over s_{R}} $$\n",
    "\n",
    "$$ \\tilde{R} = {2_{n1 n2} \\over n1 + n2} + 1 $$\n",
    "\n",
    "$$  s^2_{R} = {2_{n1n2}(2{n1n2-n1-n2}) \\over (n1+n2)^2(n1+n2-1) }$$\n",
    "\n",
    "link to resource: https://www.geeksforgeeks.org/runs-test-of-randomness-in-python/\n",
    "\n",
    "$ Z_{critical} = 1.96 $ as the confidence interval level of 95% thus this is a 2 tailed test. If the probability as corrosponding to this confidence interval $ H_{null} $ will be rejected as it is not statistically significant as denoted by $|Z| > Z_{critical} $\n",
    "\n",
    "There is also code attempting to change it from a z-score probability to a P-score for ease of understanding and clarity.\n",
    "\n",
    "# FUNCTION CODE FOR RUNS TEST"
   ]
  },
  {
   "cell_type": "code",
   "execution_count": null,
   "id": "d7233aa5",
   "metadata": {},
   "outputs": [],
   "source": [
    "binaryData1 = pulsar['Binary'].tolist()\n",
    "print(\"pulsar6 original: \",binaryData1)"
   ]
  },
  {
   "cell_type": "markdown",
   "id": "fecfd117",
   "metadata": {},
   "source": [
    "\n",
    "\n",
    "\n",
    "# Below we begin autocorrelation and autocovariance analysis\n",
    "\n",
    "To get started with this I am playing around with guide from: https://towardsdatascience.com/a-step-by-step-guide-to-calculating-autocorrelation-and-partial-autocorrelation-8c4342b784e8"
   ]
  },
  {
   "cell_type": "code",
   "execution_count": null,
   "id": "a3988177",
   "metadata": {},
   "outputs": [],
   "source": [
    "plt.style.use(\"seaborn\")\n",
    "plt.rcParams[\"figure.figsize\"] = (18, 9)\n",
    "\n",
    "fig, ax = plt.subplots(2,1)\n",
    "\n",
    "plot_acf(pulsar['Brightness'], ax=ax[0])\n",
    "plot_pacf(pulsar['Brightness'], ax=ax[1], method=\"ols\")"
   ]
  },
  {
   "cell_type": "code",
   "execution_count": null,
   "id": "8aea5386",
   "metadata": {},
   "outputs": [],
   "source": [
    "acf(pulsar['Brightness'], nlags=10)"
   ]
  },
  {
   "cell_type": "code",
   "execution_count": null,
   "id": "4cd3b25b",
   "metadata": {},
   "outputs": [],
   "source": [
    "acfpulsar = pd.DataFrame()\n",
    "for lag in range(0,11):\n",
    "    acfpulsar[f\"B_lag_{lag}\"] = pulsar['Brightness'].shift(lag)\n",
    "\n",
    "\n",
    "acfpulsar"
   ]
  },
  {
   "cell_type": "code",
   "execution_count": null,
   "id": "62db87c3",
   "metadata": {},
   "outputs": [],
   "source": [
    "acfpulsar.corr()[\"B_lag_0\"].values"
   ]
  },
  {
   "cell_type": "markdown",
   "id": "bfb18599",
   "metadata": {},
   "source": [
    "### Getting every 5th as per the auto correlation\n",
    "### Creating a new set of discrete 100 sets and examining them specifically\n",
    "### Further Random testing to move into extensive testing\n",
    "\n",
    "#### Getting every 5th as per the auto correlation"
   ]
  },
  {
   "cell_type": "code",
   "execution_count": null,
   "id": "64c3cf89",
   "metadata": {},
   "outputs": [],
   "source": [
    "held5ths = pulsar[pulsar.index % 5 == 0]\n",
    "held5ths"
   ]
  },
  {
   "cell_type": "code",
   "execution_count": null,
   "id": "0ac13a80",
   "metadata": {},
   "outputs": [],
   "source": [
    "medianheld5ths = held5ths[\"Brightness\"].median()\n",
    "medianheld5ths"
   ]
  },
  {
   "cell_type": "code",
   "execution_count": null,
   "id": "2d38115d",
   "metadata": {},
   "outputs": [],
   "source": [
    "plt.figure(figsize=(20,10))\n",
    "sns.set_theme(style=\"whitegrid\")\n",
    "ax = sns.boxplot(x=held5ths[\"Brightness\"]).set_title(\"Boxplot of Pulsar 6 Emission Strength\")"
   ]
  },
  {
   "cell_type": "code",
   "execution_count": null,
   "id": "495c9009",
   "metadata": {},
   "outputs": [],
   "source": [
    "plt.figure(figsize=(20,10))\n",
    "sns.set_style(\"darkgrid\", {\"axes.facecolor\": \".75\"})\n",
    "strength = held5ths.Brightness.values\n",
    "ax = sns.scatterplot(data=held5ths[\"Brightness\"], s= strength*50, c=strength, cmap=\"viridis\", marker=\"o\").set_title('Pulsar 6 np Cleaned Scatterplot color hued of Emission Strength')\n",
    "ax = plt.axhline( y=0.07756883, ls='-',c='mediumslateblue')"
   ]
  },
  {
   "cell_type": "code",
   "execution_count": null,
   "id": "8a9525d8",
   "metadata": {},
   "outputs": [],
   "source": [
    "plt.figure(figsize=(20,10))\n",
    "sns.set_style(\"darkgrid\", {\"axes.facecolor\": \".75\"})\n",
    "strength = held5ths.Brightness.values\n",
    "ax = plt.axhline( y=0.07756883, ls='-',c='mediumslateblue')\n",
    "ax = sns.swarmplot(data=held5ths[\"Brightness\"], c=\"blue\").set_title('Pulsar 6 Swarm plot of Emission Strength')"
   ]
  },
  {
   "cell_type": "code",
   "execution_count": null,
   "id": "7754016a",
   "metadata": {},
   "outputs": [],
   "source": [
    "print(len(held5ths[(held5ths.Brightness > 0.07756883)]))\n",
    "print(len(held5ths[(held5ths.Brightness < 0.07756883)]))"
   ]
  },
  {
   "cell_type": "code",
   "execution_count": null,
   "id": "e093e17a",
   "metadata": {},
   "outputs": [],
   "source": [
    "held10ths = pulsar[pulsar.index % 10 == 0]\n",
    "medianheld10ths = held10ths[\"Brightness\"].median()\n",
    "medianheld10ths"
   ]
  },
  {
   "cell_type": "code",
   "execution_count": null,
   "id": "950669bd",
   "metadata": {},
   "outputs": [],
   "source": [
    "plt.figure(figsize=(20,10))\n",
    "sns.set_theme(style=\"whitegrid\")\n",
    "ax = sns.boxplot(x=held10ths[\"Brightness\"]).set_title(\"Boxplot of Pulsar 6 Emission Strength\")"
   ]
  },
  {
   "cell_type": "code",
   "execution_count": null,
   "id": "5db108ad",
   "metadata": {},
   "outputs": [],
   "source": [
    "plt.figure(figsize=(20,10))\n",
    "sns.set_style(\"darkgrid\", {\"axes.facecolor\": \".75\"})\n",
    "strength = held5ths.Brightness.values\n",
    "ax = plt.axhline( y=0.079977185, ls='-',c='mediumslateblue')\n",
    "ax = sns.swarmplot(data=held10ths[\"Brightness\"], c=\"blue\").set_title('Pulsar 6 Swarm plot of Emission Strength')"
   ]
  },
  {
   "cell_type": "code",
   "execution_count": null,
   "id": "f5cdc6d8",
   "metadata": {},
   "outputs": [],
   "source": [
    "print(len(held10ths[(held10ths.Brightness > 0.079977185)]))\n",
    "print(len(held10ths[(held10ths.Brightness < 0.079977185)]))"
   ]
  },
  {
   "cell_type": "markdown",
   "id": "c1295c5d",
   "metadata": {},
   "source": [
    "#### Randomness testing"
   ]
  },
  {
   "cell_type": "code",
   "execution_count": null,
   "id": "4a18c161",
   "metadata": {},
   "outputs": [],
   "source": [
    "np.savetxt(r'every5thbinarypulsar4.txt', held5ths.Binary, fmt='%d', delimiter='')\n",
    "np.savetxt(r'allpulsar4.txt', pulsar.Binary, fmt='%d', delimiter='')\n",
    "np.savetxt(r'every10thbinarypulsar4.txt', held10ths.Binary, fmt='%d', delimiter='')"
   ]
  },
  {
   "cell_type": "code",
   "execution_count": null,
   "id": "01380606",
   "metadata": {},
   "outputs": [],
   "source": [
    "pulsar.Binary"
   ]
  }
 ],
 "metadata": {
  "kernelspec": {
   "display_name": "Python 3 (ipykernel)",
   "language": "python",
   "name": "python3"
  },
  "language_info": {
   "codemirror_mode": {
    "name": "ipython",
    "version": 3
   },
   "file_extension": ".py",
   "mimetype": "text/x-python",
   "name": "python",
   "nbconvert_exporter": "python",
   "pygments_lexer": "ipython3",
   "version": "3.9.7"
  },
  "vscode": {
   "interpreter": {
    "hash": "3196f04605bea9b17a92b569b5399b8b932106c7bb5be43f567c8aee90a344ba"
   }
  }
 },
 "nbformat": 4,
 "nbformat_minor": 5
}
