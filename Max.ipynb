{
 "cells": [
  {
   "cell_type": "markdown",
   "id": "3df3f5c0",
   "metadata": {},
   "source": [
    "# Pulsar Emission Data Analysis\n",
    "Afeef Ahmed \\\n",
    "Alexandra Ellison \\\n",
    "Matthew Oxley \\\n",
    "Max Grant \\\n",
    "Tajkinur Rahman\n",
    "<br/>\n",
    "<br/>\n",
    "*Last Updated 05/11/2022*"
   ]
  },
  {
   "cell_type": "markdown",
   "id": "28d5257b",
   "metadata": {},
   "source": [
    "### Introduction\n",
    "WRITE AN INTRODUCTION TO THE PROJECT WRITE AN INTRODUCTION TO THE PROJECT WRITE AN INTRODUCTION TO THE PROJECT WRITE AN INTRODUCTION TO THE PROJECT WRITE AN INTRODUCTION TO THE PROJECT WRITE AN INTRODUCTION TO THE PROJECT WRITE AN INTRODUCTION TO THE PROJECT WRITE AN INTRODUCTION TO THE PROJECT WRITE AN INTRODUCTION TO THE PROJECT "
   ]
  },
  {
   "cell_type": "markdown",
   "id": "11840f8b",
   "metadata": {},
   "source": [
    "#### Importing required libraries:"
   ]
  },
  {
   "cell_type": "code",
   "execution_count": null,
   "id": "e9663794",
   "metadata": {},
   "outputs": [],
   "source": [
    "import pandas as pd\n",
    "import numpy as np\n",
    "import seaborn as sns\n",
    "import matplotlib.pyplot as plt\n",
    "%matplotlib inline\n",
    "from sklearn.model_selection import train_test_split\n",
    "from sklearn import linear_model\n",
    "from sklearn.metrics import r2_score, mean_squared_error\n",
    "from sklearn.linear_model import LogisticRegression, LinearRegression\n",
    "from sklearn.metrics import confusion_matrix, accuracy_score\n",
    "from sklearn.feature_selection import RFE\n",
    "import datetime as dt\n",
    "from sklearn.cluster import KMeans\n",
    "from sklearn.metrics import pairwise_distances\n",
    "from scipy.cluster.hierarchy import linkage, dendrogram, cut_tree\n",
    "from scipy.spatial.distance import pdist \n",
    "from sklearn.feature_extraction.text import TfidfVectorizer\n",
    "import matplotlib.dates as mdates\n",
    "from scipy.stats import pearsonr\n",
    "from scipy import stats\n",
    "import statistics\n",
    "import math\n",
    "from statsmodels.graphics.tsaplots import plot_acf, plot_pacf\n",
    "from statsmodels.tsa.stattools import acf, pacf\n",
    "from statsmodels.tsa.tsatools import lagmat\n",
    "from numpy import array\n",
    "from tensorflow import keras\n",
    "from sklearn.model_selection import train_test_split\n",
    "from keras.models import Sequential\n",
    "from keras.layers import LSTM\n",
    "from keras.layers import Dense\n",
    "from keras.layers import Bidirectional\n",
    "from sklearn.preprocessing import StandardScaler\n",
    "from sklearn.model_selection import train_test_split\n",
    "from sklearn.metrics import confusion_matrix\n",
    "from sklearn import preprocessing\n",
    "from sklearn.metrics import mean_squared_error, r2_score, mean_absolute_error\n",
    "import math"
   ]
  },
  {
   "cell_type": "code",
   "execution_count": null,
   "id": "e646adcd",
   "metadata": {},
   "outputs": [],
   "source": [
    "import warnings\n",
    "warnings.filterwarnings('ignore')"
   ]
  },
  {
   "cell_type": "markdown",
   "id": "578b9c71",
   "metadata": {},
   "source": [
    "#### Importing the data:"
   ]
  },
  {
   "cell_type": "code",
   "execution_count": null,
   "id": "1d8ea811",
   "metadata": {},
   "outputs": [],
   "source": [
    "colnames = ['Pulse Number', 'Brightness', 'Uncertainty']\n",
    "pulsar1 = pd.read_csv(\"Data/J0437-4715.pulses\", sep = ' ', header = None, names = colnames)\n",
    "pulsar2 = pd.read_csv(\"Data/J0953+0755.pulses\", sep = ' ', header = None, names = colnames)\n",
    "pulsar3 = pd.read_csv(\"Data/J0835-4510.pulses\", sep = ' ', header = None, names = colnames)\n",
    "pulsar4 = pd.read_csv(\"Data/J1243-6423.pulses\", sep = ' ', header = None, names = colnames)\n",
    "pulsar5 = pd.read_csv(\"Data/J1456-6843.pulses\", sep = ' ', header = None, names = colnames)\n",
    "pulsar6 = pd.read_csv(\"Data/J1644-4559.pulses\", sep = ' ', header = None, names = colnames)"
   ]
  },
  {
   "cell_type": "markdown",
   "id": "617704a6",
   "metadata": {},
   "source": [
    "### Data Exploration"
   ]
  },
  {
   "cell_type": "markdown",
   "id": "4cdd5fea",
   "metadata": {},
   "source": [
    "#### Pulsar 1 (J0437-4715):"
   ]
  },
  {
   "cell_type": "code",
   "execution_count": null,
   "id": "83992d3f",
   "metadata": {},
   "outputs": [],
   "source": [
    "obs, cols = pulsar1.shape\n",
    "print(\"Number of Observations in Pulsar 1: \", obs)"
   ]
  },
  {
   "cell_type": "markdown",
   "id": "534a957e",
   "metadata": {},
   "source": [
    "Having a look at the first 15 observations:"
   ]
  },
  {
   "cell_type": "code",
   "execution_count": null,
   "id": "67c1a4d4",
   "metadata": {},
   "outputs": [],
   "source": [
    "pulsar1.head(15)"
   ]
  },
  {
   "cell_type": "markdown",
   "id": "a8edc91f",
   "metadata": {},
   "source": [
    "##### Descriptive Statistics\n",
    "Generating descriptive statistics for Brightness and Uncertainty variables"
   ]
  },
  {
   "cell_type": "code",
   "execution_count": null,
   "id": "75769ef0",
   "metadata": {},
   "outputs": [],
   "source": [
    "pulsar1.describe([], exclude=int)"
   ]
  },
  {
   "cell_type": "markdown",
   "id": "b1c2c831",
   "metadata": {},
   "source": [
    "##### Null or missing values:\n",
    "Checking for any null or missing values:"
   ]
  },
  {
   "cell_type": "code",
   "execution_count": null,
   "id": "20889be2",
   "metadata": {},
   "outputs": [],
   "source": [
    "nullBoolBrightness = pd.isnull(pulsar1[\"Brightness\"])\n",
    "\n",
    "pulsar1[nullBoolBrightness]"
   ]
  },
  {
   "cell_type": "code",
   "execution_count": null,
   "id": "ff28a1ed",
   "metadata": {},
   "outputs": [],
   "source": [
    "if len(pulsar1[nullBoolBrightness]) > 0:\n",
    "    print(\"There are\", len(pulsar1[nullBoolBrightness]), \"missing values for brightness\")\n",
    "else:\n",
    "    print(\"There are no missing brightness values\")"
   ]
  },
  {
   "cell_type": "markdown",
   "id": "a9853f18",
   "metadata": {},
   "source": [
    "##### Boxplot\n",
    "Looking at a boxplot of the brightness we can see that most brightness observations are between 0.1 and 0.6, and there appears to be two outliers at roughly 11 and 19 brightness"
   ]
  },
  {
   "cell_type": "code",
   "execution_count": null,
   "id": "b680f234",
   "metadata": {},
   "outputs": [],
   "source": [
    "plt.figure(figsize=(20,10))\n",
    "sns.set_theme(style=\"whitegrid\")\n",
    "ax = sns.boxplot(x=pulsar1[\"Brightness\"]).set_title(\"Boxplot of Pulsar 1 Emission Strength\")"
   ]
  },
  {
   "cell_type": "markdown",
   "id": "3de2c691",
   "metadata": {},
   "source": [
    "##### Scatterplot\n",
    "Looking at the scatterplot of Pulsar 1's brightness observations, there appears to be a random scatter, with two outliers, marked in yellow and green with readings of roughly 19 and 11 brightness, respectively."
   ]
  },
  {
   "cell_type": "code",
   "execution_count": null,
   "id": "04437cb1",
   "metadata": {
    "scrolled": false
   },
   "outputs": [],
   "source": [
    "plt.figure(figsize=(20,10))\n",
    "sns.set_style(\"darkgrid\", {\"axes.facecolor\": \".75\"})\n",
    "strength = pulsar1.Brightness.values\n",
    "plt.style.use('ggplot')\n",
    "ax = sns.scatterplot(data=pulsar1[\"Brightness\"], s= strength*50, c=strength, cmap=\"viridis\", marker=\"o\").set_title('Pulsar 1 Scatterplot color hued of Emission Strength')\n",
    "ax= plt.axhline( y=pulsar1[\"Brightness\"].median(), ls='-',c='mediumslateblue')"
   ]
  },
  {
   "cell_type": "markdown",
   "id": "d1ba72c4",
   "metadata": {},
   "source": [
    "##### Swarm Plot\n",
    "???"
   ]
  },
  {
   "cell_type": "code",
   "execution_count": null,
   "id": "3946bb4f",
   "metadata": {},
   "outputs": [],
   "source": [
    "#plt.figure(figsize=(20,10))\n",
    "#sns.set_style(\"darkgrid\", {\"axes.facecolor\": \".75\"})\n",
    "#strength = pulsar1.Brightness.values\n",
    "#ax = plt.axhline( y=pulsar1[\"Brightness\"].median(), ls='-',c='mediumslateblue')\n",
    "#ax = sns.swarmplot(data=pulsar1[\"Brightness\"], c=\"blue\").set_title('Pulsar 1 Swarm plot of Emission Strength')"
   ]
  },
  {
   "cell_type": "markdown",
   "id": "228da069",
   "metadata": {},
   "source": [
    "##### Distribution\n",
    "Looking at the distribtuion of Pulsar 1's brightness, there appears to be a moderate positive skew with a peak around 0.4"
   ]
  },
  {
   "cell_type": "code",
   "execution_count": null,
   "id": "fc45de99",
   "metadata": {},
   "outputs": [],
   "source": [
    "plt.figure(figsize=(10, 16))\n",
    "with sns.axes_style('darkgrid'):\n",
    "    sns.distplot(pulsar1.Brightness)\n",
    "plt.title(\"Distribution of Pulsar 1 Brightness\")"
   ]
  },
  {
   "cell_type": "markdown",
   "id": "30115cf6",
   "metadata": {},
   "source": [
    "#### Pulsar 2 (J0953+0755):"
   ]
  },
  {
   "cell_type": "code",
   "execution_count": null,
   "id": "597cc543",
   "metadata": {},
   "outputs": [],
   "source": [
    "obs, cols = pulsar2.shape\n",
    "print(\"Number of Observations in Pulsar 2: \", obs)"
   ]
  },
  {
   "cell_type": "markdown",
   "id": "5a8ef69f",
   "metadata": {},
   "source": [
    "Having a look at the first 15 observations:"
   ]
  },
  {
   "cell_type": "code",
   "execution_count": null,
   "id": "7a982c2d",
   "metadata": {},
   "outputs": [],
   "source": [
    "pulsar2.head(15)"
   ]
  },
  {
   "cell_type": "markdown",
   "id": "194aedfe",
   "metadata": {},
   "source": [
    "##### Descriptive Statistics\n",
    "Generating descriptive statistics for Brightness and Uncertainty variables"
   ]
  },
  {
   "cell_type": "code",
   "execution_count": null,
   "id": "6502d6f6",
   "metadata": {},
   "outputs": [],
   "source": [
    "pulsar2.describe([], exclude=int)"
   ]
  },
  {
   "cell_type": "markdown",
   "id": "f9968f7c",
   "metadata": {},
   "source": [
    "##### Null or missing values:\n",
    "Checking for any null or missing values:"
   ]
  },
  {
   "cell_type": "code",
   "execution_count": null,
   "id": "91d4d2f9",
   "metadata": {},
   "outputs": [],
   "source": [
    "nullBoolBrightness2 = pd.isnull(pulsar2[\"Brightness\"])\n",
    "\n",
    "pulsar2[nullBoolBrightness2]"
   ]
  },
  {
   "cell_type": "code",
   "execution_count": null,
   "id": "6f4e0136",
   "metadata": {},
   "outputs": [],
   "source": [
    "if len(pulsar2[nullBoolBrightness2]) > 0:\n",
    "    print(\"There are\", len(pulsar2[nullBoolBrightness2]), \"missing values for brightness\")\n",
    "else:\n",
    "    print(\"There are no missing brightness values\")"
   ]
  },
  {
   "cell_type": "markdown",
   "id": "87ed5c2e",
   "metadata": {},
   "source": [
    "##### Boxplot\n",
    "Looking at a boxplot of the brightness we can see that most values fall in the 0.2 to 1.5 range and a lot of large observations, but not quite outliers."
   ]
  },
  {
   "cell_type": "code",
   "execution_count": null,
   "id": "5fd06fd1",
   "metadata": {},
   "outputs": [],
   "source": [
    "plt.figure(figsize=(20,10))\n",
    "sns.set_theme(style=\"whitegrid\")\n",
    "ax = sns.boxplot(x=pulsar2[\"Brightness\"]).set_title(\"Boxplot of Pulsar 2 Emission Strength\")"
   ]
  },
  {
   "cell_type": "markdown",
   "id": "6269c369",
   "metadata": {},
   "source": [
    "##### Scatterplot\n",
    "Looking at the scatterplot of Pulsar 2's brightness observations, there appears to be a random scatter"
   ]
  },
  {
   "cell_type": "code",
   "execution_count": null,
   "id": "a664bad2",
   "metadata": {},
   "outputs": [],
   "source": [
    "plt.figure(figsize=(20,10))\n",
    "sns.set_style(\"darkgrid\", {\"axes.facecolor\": \".75\"})\n",
    "strength = pulsar2.Brightness.values\n",
    "plt.style.use('ggplot')\n",
    "ax = sns.scatterplot(data=pulsar2[\"Brightness\"], s= strength*50, c=strength, cmap=\"viridis\", marker=\"o\").set_title('Pulsar 2 Scatterplot color hued of Emission Strength')\n",
    "ax= plt.axhline( y=pulsar2[\"Brightness\"].median(), ls='-',c='mediumslateblue')"
   ]
  },
  {
   "cell_type": "markdown",
   "id": "0a8cbf58",
   "metadata": {},
   "source": [
    "##### Swarm Plot\n",
    "???"
   ]
  },
  {
   "cell_type": "code",
   "execution_count": null,
   "id": "650f8e03",
   "metadata": {},
   "outputs": [],
   "source": [
    "#plt.figure(figsize=(20,10))\n",
    "#sns.set_style(\"darkgrid\", {\"axes.facecolor\": \".75\"})\n",
    "#strength = pulsar2.Brightness.values\n",
    "#ax = plt.axhline( y=pulsar2[\"Brightness\"].median(), ls='-',c='mediumslateblue')\n",
    "#ax = sns.swarmplot(data=pulsar2[\"Brightness\"], c=\"blue\").set_title('Pulsar 2 Swarm plot of Emission Strength')"
   ]
  },
  {
   "cell_type": "markdown",
   "id": "14995b6f",
   "metadata": {},
   "source": [
    "##### Distribution\n",
    "Looking at the distribtuion of Pulsar 2's brightness, there appears to be a strong positive skew"
   ]
  },
  {
   "cell_type": "code",
   "execution_count": null,
   "id": "d3286eb5",
   "metadata": {},
   "outputs": [],
   "source": [
    "plt.figure(figsize=(10, 16))\n",
    "with sns.axes_style('darkgrid'):\n",
    "    sns.distplot(pulsar2.Brightness)\n",
    "plt.title(\"Distribution of Pulsar 2 Brightness\")"
   ]
  },
  {
   "cell_type": "markdown",
   "id": "c7a10ce5",
   "metadata": {},
   "source": [
    "#### Pulsar 3 (J0835-4510):"
   ]
  },
  {
   "cell_type": "code",
   "execution_count": null,
   "id": "1c0f44fd",
   "metadata": {},
   "outputs": [],
   "source": [
    "obs, cols = pulsar3.shape\n",
    "print(\"Number of Observations in Pulsar 3: \", obs)"
   ]
  },
  {
   "cell_type": "markdown",
   "id": "d05fc060",
   "metadata": {},
   "source": [
    "Having a look at the first 15 observations:"
   ]
  },
  {
   "cell_type": "code",
   "execution_count": null,
   "id": "6cd34e3f",
   "metadata": {},
   "outputs": [],
   "source": [
    "pulsar3.head(15)"
   ]
  },
  {
   "cell_type": "markdown",
   "id": "401b4f34",
   "metadata": {},
   "source": [
    "##### Descriptive Statistics\n",
    "Generating descriptive statistics for Brightness and Uncertainty variables"
   ]
  },
  {
   "cell_type": "code",
   "execution_count": null,
   "id": "a828ee76",
   "metadata": {},
   "outputs": [],
   "source": [
    "pulsar3.describe([], exclude=int)"
   ]
  },
  {
   "cell_type": "markdown",
   "id": "92d174c2",
   "metadata": {},
   "source": [
    "##### Null or missing values:\n",
    "Checking for any null or missing values:"
   ]
  },
  {
   "cell_type": "code",
   "execution_count": null,
   "id": "2b0e0d26",
   "metadata": {},
   "outputs": [],
   "source": [
    "nullBoolBrightness3 = pd.isnull(pulsar3[\"Brightness\"])\n",
    "\n",
    "pulsar3[nullBoolBrightness3]"
   ]
  },
  {
   "cell_type": "code",
   "execution_count": null,
   "id": "dde4ee03",
   "metadata": {},
   "outputs": [],
   "source": [
    "if len(pulsar3[nullBoolBrightness3]) > 0:\n",
    "    print(\"There are\", len(pulsar3[nullBoolBrightness3]), \"missing values for brightness\")\n",
    "else:\n",
    "    print(\"There are no missing brightness values\")"
   ]
  },
  {
   "cell_type": "markdown",
   "id": "d3747b41",
   "metadata": {},
   "source": [
    "##### Boxplot\n",
    "Looking at a boxplot of the brightness we can see that most values are within the 1.8 to 2.7 range, but once again no obvious outliers present"
   ]
  },
  {
   "cell_type": "code",
   "execution_count": null,
   "id": "9d3a522d",
   "metadata": {},
   "outputs": [],
   "source": [
    "plt.figure(figsize=(20,10))\n",
    "sns.set_theme(style=\"whitegrid\")\n",
    "ax = sns.boxplot(x=pulsar3[\"Brightness\"]).set_title(\"Boxplot of Pulsar 3 Emission Strength\")"
   ]
  },
  {
   "cell_type": "markdown",
   "id": "604324dd",
   "metadata": {},
   "source": [
    "##### Scatterplot\n",
    "Looking at the scatterplot of Pulsar 3's brightness observations, there appears to be no discernable pattern, that is, it appears to be a random scatter"
   ]
  },
  {
   "cell_type": "code",
   "execution_count": null,
   "id": "3873516a",
   "metadata": {},
   "outputs": [],
   "source": [
    "plt.figure(figsize=(20,10))\n",
    "sns.set_style(\"darkgrid\", {\"axes.facecolor\": \".75\"})\n",
    "strength = pulsar3.Brightness.values\n",
    "plt.style.use('ggplot')\n",
    "ax = sns.scatterplot(data=pulsar3[\"Brightness\"], s= strength*50, c=strength, cmap=\"viridis\", marker=\"o\").set_title('Pulsar 3 Scatterplot color hued of Emission Strength')\n",
    "ax= plt.axhline( y=pulsar3[\"Brightness\"].median(), ls='-',c='mediumslateblue')"
   ]
  },
  {
   "cell_type": "markdown",
   "id": "ba2f42ae",
   "metadata": {},
   "source": [
    "##### Swarm Plot\n",
    "???"
   ]
  },
  {
   "cell_type": "code",
   "execution_count": null,
   "id": "401dcf87",
   "metadata": {},
   "outputs": [],
   "source": [
    "plt.figure(figsize=(20,10))\n",
    "sns.set_style(\"darkgrid\", {\"axes.facecolor\": \".75\"})\n",
    "strength = pulsar3.Brightness.values\n",
    "ax = plt.axhline( y=pulsar3[\"Brightness\"].median(), ls='-',c='mediumslateblue')\n",
    "ax = sns.swarmplot(data=pulsar3[\"Brightness\"], c=\"blue\").set_title('Pulsar 3 Swarm plot of Emission Strength')"
   ]
  },
  {
   "cell_type": "markdown",
   "id": "56f3907b",
   "metadata": {},
   "source": [
    "##### Distribution\n",
    "Looking at the distribtuion of Pulsar 3's brightness, it appears to follow very closely to a normal distribution, however it does appear to be bimodal."
   ]
  },
  {
   "cell_type": "code",
   "execution_count": null,
   "id": "d54ce0e6",
   "metadata": {},
   "outputs": [],
   "source": [
    "plt.figure(figsize=(10, 16))\n",
    "with sns.axes_style('darkgrid'):\n",
    "    sns.distplot(pulsar3.Brightness)\n",
    "plt.title(\"Distribution of Pulsar 3 Brightness\")"
   ]
  },
  {
   "cell_type": "markdown",
   "id": "96d16f04",
   "metadata": {},
   "source": [
    "#### Pulsar 4 (J1243-6423):"
   ]
  },
  {
   "cell_type": "code",
   "execution_count": null,
   "id": "b1ec647a",
   "metadata": {},
   "outputs": [],
   "source": [
    "obs, cols = pulsar4.shape\n",
    "print(\"Number of Observations in Pulsar 4: \", obs)"
   ]
  },
  {
   "cell_type": "markdown",
   "id": "dd462d20",
   "metadata": {},
   "source": [
    "Having a look at the first 15 observations:"
   ]
  },
  {
   "cell_type": "code",
   "execution_count": null,
   "id": "5927c9be",
   "metadata": {},
   "outputs": [],
   "source": [
    "pulsar4.head(15)"
   ]
  },
  {
   "cell_type": "markdown",
   "id": "b6fb220f",
   "metadata": {},
   "source": [
    "##### Descriptive Statistics\n",
    "Generating descriptive statistics for Brightness and Uncertainty variables"
   ]
  },
  {
   "cell_type": "code",
   "execution_count": null,
   "id": "9e4b82a3",
   "metadata": {},
   "outputs": [],
   "source": [
    "pulsar4.describe([], exclude=int)"
   ]
  },
  {
   "cell_type": "markdown",
   "id": "39d65227",
   "metadata": {},
   "source": [
    "##### Null or missing values:\n",
    "Checking for any null or missing values:"
   ]
  },
  {
   "cell_type": "code",
   "execution_count": null,
   "id": "cd4f361d",
   "metadata": {},
   "outputs": [],
   "source": [
    "nullBoolBrightness4 = pd.isnull(pulsar4[\"Brightness\"])\n",
    "\n",
    "pulsar4[nullBoolBrightness4]"
   ]
  },
  {
   "cell_type": "code",
   "execution_count": null,
   "id": "d466be09",
   "metadata": {},
   "outputs": [],
   "source": [
    "if len(pulsar4[nullBoolBrightness4]) > 0:\n",
    "    print(\"There are\", len(pulsar4[nullBoolBrightness4]), \"missing values for brightness\")\n",
    "else:\n",
    "    print(\"There are no missing brightness values\")"
   ]
  },
  {
   "cell_type": "markdown",
   "id": "5ea0b156",
   "metadata": {},
   "source": [
    "##### Boxplot\n",
    "Looking at a boxplot of the brightness we can see that most values fall within the 0.02 to 0.12 range, with no extreme outliers"
   ]
  },
  {
   "cell_type": "code",
   "execution_count": null,
   "id": "364c3ab4",
   "metadata": {},
   "outputs": [],
   "source": [
    "plt.figure(figsize=(20,10))\n",
    "sns.set_theme(style=\"whitegrid\")\n",
    "ax = sns.boxplot(x=pulsar4[\"Brightness\"]).set_title(\"Boxplot of Pulsar 4 Emission Strength\")"
   ]
  },
  {
   "cell_type": "markdown",
   "id": "4af30840",
   "metadata": {},
   "source": [
    "##### Scatterplot\n",
    "Looking at the scatterplot of Pulsar 4's brightness observations, there is no visible pattern in the data, lending to the idea that it appears random"
   ]
  },
  {
   "cell_type": "code",
   "execution_count": null,
   "id": "e4aec719",
   "metadata": {},
   "outputs": [],
   "source": [
    "plt.figure(figsize=(20,10))\n",
    "sns.set_style(\"darkgrid\", {\"axes.facecolor\": \".75\"})\n",
    "strength = pulsar4.Brightness.values\n",
    "plt.style.use('ggplot')\n",
    "ax = sns.scatterplot(data=pulsar4[\"Brightness\"], s= strength*500, c=strength, cmap=\"viridis\", marker=\"o\").set_title('Pulsar 4 Scatterplot color hued of Emission Strength')\n",
    "ax= plt.axhline( y=pulsar4[\"Brightness\"].median(), ls='-',c='mediumslateblue')"
   ]
  },
  {
   "cell_type": "markdown",
   "id": "89d9e910",
   "metadata": {},
   "source": [
    "##### Swarm Plot\n",
    "???"
   ]
  },
  {
   "cell_type": "code",
   "execution_count": null,
   "id": "99571f9d",
   "metadata": {},
   "outputs": [],
   "source": [
    "plt.figure(figsize=(20,10))\n",
    "sns.set_style(\"darkgrid\", {\"axes.facecolor\": \".75\"})\n",
    "strength = pulsar4.Brightness.values\n",
    "ax = plt.axhline( y=pulsar4[\"Brightness\"].median(), ls='-',c='mediumslateblue')\n",
    "ax = sns.swarmplot(data=pulsar4[\"Brightness\"], c=\"blue\").set_title('Pulsar 4 Swarm plot of Emission Strength')"
   ]
  },
  {
   "cell_type": "markdown",
   "id": "a2b06216",
   "metadata": {},
   "source": [
    "##### Distribution\n",
    "Looking at the distribtuion of Pulsar 4's brightness, it is bimodal with a moderate positive skew"
   ]
  },
  {
   "cell_type": "code",
   "execution_count": null,
   "id": "7da9b359",
   "metadata": {},
   "outputs": [],
   "source": [
    "plt.figure(figsize=(10, 16))\n",
    "with sns.axes_style('darkgrid'):\n",
    "    sns.distplot(pulsar4.Brightness)\n",
    "plt.title(\"Distribution of Pulsar 4 Brightness\")"
   ]
  },
  {
   "cell_type": "markdown",
   "id": "32feff89",
   "metadata": {},
   "source": [
    "#### Pulsar 5 (J1456-6843):"
   ]
  },
  {
   "cell_type": "code",
   "execution_count": null,
   "id": "f71b394e",
   "metadata": {},
   "outputs": [],
   "source": [
    "obs, cols = pulsar5.shape\n",
    "print(\"Number of Observations in Pulsar 5: \", obs)"
   ]
  },
  {
   "cell_type": "markdown",
   "id": "15aa5a50",
   "metadata": {},
   "source": [
    "Having a look at the first 15 observations:"
   ]
  },
  {
   "cell_type": "code",
   "execution_count": null,
   "id": "35c81c36",
   "metadata": {},
   "outputs": [],
   "source": [
    "pulsar5.head(15)"
   ]
  },
  {
   "cell_type": "markdown",
   "id": "e4ea3190",
   "metadata": {},
   "source": [
    "##### Descriptive Statistics\n",
    "Generating descriptive statistics for Brightness and Uncertainty variables"
   ]
  },
  {
   "cell_type": "code",
   "execution_count": null,
   "id": "b2ff0fc8",
   "metadata": {},
   "outputs": [],
   "source": [
    "pulsar5.describe([], exclude=int)"
   ]
  },
  {
   "cell_type": "markdown",
   "id": "ca4bae77",
   "metadata": {},
   "source": [
    "##### Null or missing values:\n",
    "Checking for any null or missing values:"
   ]
  },
  {
   "cell_type": "code",
   "execution_count": null,
   "id": "7bcc9875",
   "metadata": {},
   "outputs": [],
   "source": [
    "nullBoolBrightness5 = pd.isnull(pulsar5[\"Brightness\"])\n",
    "\n",
    "pulsar5[nullBoolBrightness5]"
   ]
  },
  {
   "cell_type": "code",
   "execution_count": null,
   "id": "7f970fab",
   "metadata": {},
   "outputs": [],
   "source": [
    "if len(pulsar5[nullBoolBrightness5]) > 0:\n",
    "    print(\"There are\", len(pulsar5[nullBoolBrightness5]), \"missing values for brightness\")\n",
    "else:\n",
    "    print(\"There are no missing brightness values\")"
   ]
  },
  {
   "cell_type": "markdown",
   "id": "e09ca52d",
   "metadata": {},
   "source": [
    "##### Boxplot\n",
    "Looking at a boxplot of the brightness we can see that most values fall within the 0.05 to 0.15 range, with an outlier around 0.82"
   ]
  },
  {
   "cell_type": "code",
   "execution_count": null,
   "id": "4679820c",
   "metadata": {},
   "outputs": [],
   "source": [
    "plt.figure(figsize=(20,10))\n",
    "sns.set_theme(style=\"whitegrid\")\n",
    "ax = sns.boxplot(x=pulsar5[\"Brightness\"]).set_title(\"Boxplot of Pulsar 5 Emission Strength\")"
   ]
  },
  {
   "cell_type": "markdown",
   "id": "f6f7e8f2",
   "metadata": {},
   "source": [
    "##### Scatterplot\n",
    "Looking at the scatterplot of Pulsar 5's brightness observations, there appears to be a random scatter"
   ]
  },
  {
   "cell_type": "code",
   "execution_count": null,
   "id": "64f50871",
   "metadata": {},
   "outputs": [],
   "source": [
    "plt.figure(figsize=(20,10))\n",
    "sns.set_style(\"darkgrid\", {\"axes.facecolor\": \".75\"})\n",
    "strength = pulsar5.Brightness.values\n",
    "plt.style.use('ggplot')\n",
    "ax = sns.scatterplot(data=pulsar5[\"Brightness\"], s= strength*50, c=strength, cmap=\"viridis\", marker=\"o\").set_title('Pulsar 5 Scatterplot color hued of Emission Strength')\n",
    "ax= plt.axhline( y=pulsar5[\"Brightness\"].median(), ls='-',c='mediumslateblue')"
   ]
  },
  {
   "cell_type": "markdown",
   "id": "e0c6d584",
   "metadata": {},
   "source": [
    "##### Swarm Plot\n",
    "???"
   ]
  },
  {
   "cell_type": "code",
   "execution_count": null,
   "id": "022a92b0",
   "metadata": {},
   "outputs": [],
   "source": [
    "plt.figure(figsize=(20,10))\n",
    "sns.set_style(\"darkgrid\", {\"axes.facecolor\": \".75\"})\n",
    "strength = pulsar5.Brightness.values\n",
    "ax = plt.axhline( y=pulsar5[\"Brightness\"].median(), ls='-',c='mediumslateblue')\n",
    "ax = sns.swarmplot(data=pulsar5[\"Brightness\"], c=\"blue\").set_title('Pulsar 5 Swarm plot of Emission Strength')"
   ]
  },
  {
   "cell_type": "markdown",
   "id": "57a3026c",
   "metadata": {},
   "source": [
    "##### Distribution\n",
    "Looking at the distribtuion of Pulsar 5's brightness, there is a strong positive skew, with a peak around 0.05"
   ]
  },
  {
   "cell_type": "code",
   "execution_count": null,
   "id": "a35e3ca6",
   "metadata": {},
   "outputs": [],
   "source": [
    "plt.figure(figsize=(10, 16))\n",
    "with sns.axes_style('darkgrid'):\n",
    "    sns.distplot(pulsar5.Brightness)\n",
    "plt.title(\"Distribution of Pulsar 5 Brightness\")"
   ]
  },
  {
   "cell_type": "markdown",
   "id": "4aa86ee8",
   "metadata": {},
   "source": [
    "#### Pulsar 6 (J1644-4559):"
   ]
  },
  {
   "cell_type": "code",
   "execution_count": null,
   "id": "19646ae4",
   "metadata": {},
   "outputs": [],
   "source": [
    "obs, cols = pulsar6.shape\n",
    "print(\"Number of Observations in Pulsar 6: \", obs)"
   ]
  },
  {
   "cell_type": "markdown",
   "id": "e1d18d4f",
   "metadata": {},
   "source": [
    "Having a look at the first 15 observations:"
   ]
  },
  {
   "cell_type": "code",
   "execution_count": null,
   "id": "33246cb7",
   "metadata": {},
   "outputs": [],
   "source": [
    "pulsar6.head(15)"
   ]
  },
  {
   "cell_type": "markdown",
   "id": "993de2fb",
   "metadata": {},
   "source": [
    "##### Descriptive Statistics\n",
    "Generating descriptive statistics for Brightness and Uncertainty variables"
   ]
  },
  {
   "cell_type": "code",
   "execution_count": null,
   "id": "2035f7d9",
   "metadata": {},
   "outputs": [],
   "source": [
    "pulsar6.describe([], exclude=int)"
   ]
  },
  {
   "cell_type": "markdown",
   "id": "31dcc726",
   "metadata": {},
   "source": [
    "##### Null or missing values:\n",
    "Checking for any null or missing values:"
   ]
  },
  {
   "cell_type": "code",
   "execution_count": null,
   "id": "a5ffef19",
   "metadata": {},
   "outputs": [],
   "source": [
    "nullBoolBrightness6 = pd.isnull(pulsar6[\"Brightness\"])\n",
    "\n",
    "pulsar6[nullBoolBrightness6]"
   ]
  },
  {
   "cell_type": "code",
   "execution_count": null,
   "id": "457926ad",
   "metadata": {},
   "outputs": [],
   "source": [
    "if len(pulsar6[nullBoolBrightness6]) > 0:\n",
    "    print(\"There are\", len(pulsar6[nullBoolBrightness6]), \"missing values for brightness\")\n",
    "else:\n",
    "    print(\"There are no missing brightness values\")"
   ]
  },
  {
   "cell_type": "markdown",
   "id": "9513b5bb",
   "metadata": {},
   "source": [
    "##### Boxplot\n",
    "Looking at a boxplot of the brightness we can see that most values are within 0.5 to 0.7, with no obvious outliers to be removed"
   ]
  },
  {
   "cell_type": "code",
   "execution_count": null,
   "id": "96316406",
   "metadata": {},
   "outputs": [],
   "source": [
    "plt.figure(figsize=(20,10))\n",
    "sns.set_theme(style=\"whitegrid\")\n",
    "ax = sns.boxplot(x=pulsar6[\"Brightness\"]).set_title(\"Boxplot of Pulsar 6 Emission Strength\")"
   ]
  },
  {
   "cell_type": "markdown",
   "id": "60c004e4",
   "metadata": {},
   "source": [
    "##### Scatterplot\n",
    "Looking at the scatterplot of Pulsar 6's brightness observations, there brightness appears to have a random scatter, with no pattern distinguishable"
   ]
  },
  {
   "cell_type": "code",
   "execution_count": null,
   "id": "1f45c953",
   "metadata": {},
   "outputs": [],
   "source": [
    "plt.figure(figsize=(20,10))\n",
    "sns.set_style(\"darkgrid\", {\"axes.facecolor\": \".75\"})\n",
    "strength = pulsar6.Brightness.values\n",
    "plt.style.use('ggplot')\n",
    "ax = sns.scatterplot(data=pulsar6[\"Brightness\"], s= strength*50, c=strength, cmap=\"viridis\", marker=\"o\").set_title('Pulsar 6 Scatterplot color hued of Emission Strength')\n",
    "ax= plt.axhline( y=pulsar6[\"Brightness\"].median(), ls='-',c='mediumslateblue')"
   ]
  },
  {
   "cell_type": "markdown",
   "id": "223b2b20",
   "metadata": {},
   "source": [
    "##### Swarm Plot\n",
    "???"
   ]
  },
  {
   "cell_type": "code",
   "execution_count": null,
   "id": "d1142ee6",
   "metadata": {},
   "outputs": [],
   "source": [
    "plt.figure(figsize=(20,10))\n",
    "sns.set_style(\"darkgrid\", {\"axes.facecolor\": \".75\"})\n",
    "strength = pulsar6.Brightness.values\n",
    "ax = plt.axhline( y=pulsar6[\"Brightness\"].median(), ls='-',c='mediumslateblue')\n",
    "ax = sns.swarmplot(data=pulsar6[\"Brightness\"], c=\"blue\").set_title('Pulsar 6 Swarm plot of Emission Strength')"
   ]
  },
  {
   "cell_type": "markdown",
   "id": "f5966300",
   "metadata": {},
   "source": [
    "##### Distribution\n",
    "Looking at the distribtuion of Pulsar 6's brightness, it appears very closely follow a normal distribution"
   ]
  },
  {
   "cell_type": "code",
   "execution_count": null,
   "id": "13295c0c",
   "metadata": {},
   "outputs": [],
   "source": [
    "plt.figure(figsize=(10, 16))\n",
    "with sns.axes_style('darkgrid'):\n",
    "    sns.distplot(pulsar6.Brightness)\n",
    "plt.title(\"Distribution of Pulsar 6 Brightness\")"
   ]
  },
  {
   "cell_type": "markdown",
   "id": "02a5b106",
   "metadata": {},
   "source": [
    "### Generating a Binary Data Sequence for Machine Learning Algorithms and Randomness Testing"
   ]
  },
  {
   "cell_type": "markdown",
   "id": "330bab58",
   "metadata": {},
   "source": [
    "A 'Binary' column is generated based on whether the Brightness for the current observation is higher or lower than the median Brightness. If the observed Brightness is greater than the median, assign 1, if less than, assign 0."
   ]
  },
  {
   "cell_type": "markdown",
   "id": "a545c42e",
   "metadata": {},
   "source": [
    "#### Pulsar 1 (J0437-4715):"
   ]
  },
  {
   "cell_type": "code",
   "execution_count": null,
   "id": "90433082",
   "metadata": {},
   "outputs": [],
   "source": [
    "medianpulse1 = pulsar1[\"Brightness\"].median()\n",
    "print(\"Median of Pulsar 1: \", medianpulse1)\n",
    "pulsar1['Binary'] = np.where(pulsar1['Brightness'] > medianpulse1, 1, 0)"
   ]
  },
  {
   "cell_type": "code",
   "execution_count": null,
   "id": "a4ec6ab9",
   "metadata": {},
   "outputs": [],
   "source": [
    "pulsar1.head(10)"
   ]
  },
  {
   "cell_type": "code",
   "execution_count": null,
   "id": "eb1f9200",
   "metadata": {},
   "outputs": [],
   "source": [
    "print(\"Number of observations assigned 1: \", len(pulsar1[(pulsar1.Brightness > medianpulse1)]))\n",
    "print(\"Number of observations assigned 0: \", len(pulsar1[(pulsar1.Brightness < medianpulse1)]))"
   ]
  },
  {
   "cell_type": "markdown",
   "id": "aec94e00",
   "metadata": {},
   "source": [
    "#### Pulsar 2 (J0953+0755):"
   ]
  },
  {
   "cell_type": "code",
   "execution_count": null,
   "id": "a89b8480",
   "metadata": {},
   "outputs": [],
   "source": [
    "medianpulse2 = pulsar2[\"Brightness\"].median()\n",
    "print(\"Median of Pulsar 2: \", medianpulse2)\n",
    "pulsar2['Binary'] = np.where(pulsar2['Brightness'] > medianpulse2, 1, 0)"
   ]
  },
  {
   "cell_type": "code",
   "execution_count": null,
   "id": "76af7bdc",
   "metadata": {},
   "outputs": [],
   "source": [
    "pulsar2.head(10)"
   ]
  },
  {
   "cell_type": "code",
   "execution_count": null,
   "id": "d9ca764d",
   "metadata": {},
   "outputs": [],
   "source": [
    "print(\"Number of observations assigned 1: \", len(pulsar2[(pulsar2.Brightness > medianpulse2)]))\n",
    "print(\"Number of observations assigned 0: \", len(pulsar2[(pulsar2.Brightness < medianpulse2)]))"
   ]
  },
  {
   "cell_type": "markdown",
   "id": "ab799736",
   "metadata": {},
   "source": [
    "#### Pulsar 3 (J0835-4510):"
   ]
  },
  {
   "cell_type": "code",
   "execution_count": null,
   "id": "0bd64a19",
   "metadata": {},
   "outputs": [],
   "source": [
    "medianpulse3 = pulsar3[\"Brightness\"].median()\n",
    "print(\"Median of Pulsar 3: \", medianpulse3)\n",
    "pulsar3['Binary'] = np.where(pulsar3['Brightness'] > medianpulse3, 1, 0)"
   ]
  },
  {
   "cell_type": "code",
   "execution_count": null,
   "id": "ed87ab1e",
   "metadata": {},
   "outputs": [],
   "source": [
    "pulsar3.head(10)"
   ]
  },
  {
   "cell_type": "code",
   "execution_count": null,
   "id": "ff329cf7",
   "metadata": {},
   "outputs": [],
   "source": [
    "print(\"Number of observations assigned 1: \", len(pulsar3[(pulsar3.Brightness > medianpulse3)]))\n",
    "print(\"Number of observations assigned 0: \", len(pulsar3[(pulsar3.Brightness < medianpulse3)]))"
   ]
  },
  {
   "cell_type": "markdown",
   "id": "ab4e7d96",
   "metadata": {},
   "source": [
    "#### Pulsar 4 (J1243-6423):"
   ]
  },
  {
   "cell_type": "code",
   "execution_count": null,
   "id": "e236f891",
   "metadata": {},
   "outputs": [],
   "source": [
    "medianpulse4 = pulsar4[\"Brightness\"].median()\n",
    "print(\"Median of Pulsar 4: \", medianpulse4)\n",
    "pulsar4['Binary'] = np.where(pulsar4['Brightness'] > medianpulse4, 1, 0)"
   ]
  },
  {
   "cell_type": "code",
   "execution_count": null,
   "id": "8eb8145b",
   "metadata": {},
   "outputs": [],
   "source": [
    "pulsar4.head(10)"
   ]
  },
  {
   "cell_type": "code",
   "execution_count": null,
   "id": "3a6cc9c6",
   "metadata": {},
   "outputs": [],
   "source": [
    "print(\"Number of observations assigned 1: \", len(pulsar4[(pulsar4.Brightness > medianpulse4)]))\n",
    "print(\"Number of observations assigned 0: \", len(pulsar4[(pulsar4.Brightness < medianpulse4)]))"
   ]
  },
  {
   "cell_type": "markdown",
   "id": "405a52e4",
   "metadata": {},
   "source": [
    "#### Pulsar 5 (J1456-6843):"
   ]
  },
  {
   "cell_type": "code",
   "execution_count": null,
   "id": "fa15d9c9",
   "metadata": {},
   "outputs": [],
   "source": [
    "medianpulse5 = pulsar5[\"Brightness\"].median()\n",
    "print(\"Median of Pulsar 5: \", medianpulse5)\n",
    "pulsar5['Binary'] = np.where(pulsar5['Brightness'] > medianpulse4, 1, 0)"
   ]
  },
  {
   "cell_type": "code",
   "execution_count": null,
   "id": "3b411f14",
   "metadata": {},
   "outputs": [],
   "source": [
    "pulsar5.head(10)"
   ]
  },
  {
   "cell_type": "code",
   "execution_count": null,
   "id": "5abd8f8d",
   "metadata": {},
   "outputs": [],
   "source": [
    "print(\"Number of observations assigned 1: \", len(pulsar5[(pulsar5.Brightness > medianpulse5)]))\n",
    "print(\"Number of observations assigned 0: \", len(pulsar5[(pulsar5.Brightness < medianpulse5)]))"
   ]
  },
  {
   "cell_type": "markdown",
   "id": "e18d241e",
   "metadata": {},
   "source": [
    "#### Pulsar 6 (J1644-4559):"
   ]
  },
  {
   "cell_type": "code",
   "execution_count": null,
   "id": "262195a5",
   "metadata": {},
   "outputs": [],
   "source": [
    "medianpulse6 = pulsar6[\"Brightness\"].median()\n",
    "print(\"Median of Pulsar 6: \", medianpulse6)\n",
    "pulsar6['Binary'] = np.where(pulsar6['Brightness'] > medianpulse6, 1, 0)"
   ]
  },
  {
   "cell_type": "code",
   "execution_count": null,
   "id": "6bf32545",
   "metadata": {},
   "outputs": [],
   "source": [
    "pulsar6.head(10)"
   ]
  },
  {
   "cell_type": "code",
   "execution_count": null,
   "id": "a04acd0b",
   "metadata": {},
   "outputs": [],
   "source": [
    "print(\"Number of observations assigned 1: \", len(pulsar6[(pulsar6.Brightness > medianpulse6)]))\n",
    "print(\"Number of observations assigned 0: \", len(pulsar6[(pulsar6.Brightness < medianpulse6)]))"
   ]
  },
  {
   "cell_type": "markdown",
   "id": "2cc814d8",
   "metadata": {},
   "source": [
    "### Deriving Rolling Median and Mean statistics. With Binned Visualisations"
   ]
  },
  {
   "cell_type": "markdown",
   "id": "114ea3b5",
   "metadata": {},
   "source": [
    "#### Pulsar 1 (J0437-4715):"
   ]
  },
  {
   "cell_type": "code",
   "execution_count": null,
   "id": "4645942f",
   "metadata": {},
   "outputs": [],
   "source": [
    "data = pulsar[\"Brightness\"]\n",
    "dataPDF = stats.maxwell.pdf(data)\n",
    "bin_means, bin_edges, binnumber = stats.binned_statistic(data, dataPDF,\n",
    "        statistic='mean', bins=15)\n",
    "bin_width = (bin_edges[1] - bin_edges[0])\n",
    "bin_centers = bin_edges[1:] - bin_width/2\n",
    "\n",
    "plt.figure(figsize=(20,10))\n",
    "plt.hist(data, bins=30, density=True, histtype='stepfilled', alpha=0.3, label='Histogram of Brightness Data')\n",
    "plt.plot(data, dataPDF, '--', label = \"Analytical pdf\")\n",
    "plt.hlines(bin_means, bin_edges[:-1], bin_edges[1:], colors='purple', lw=5, label='Binned Stat of Data')\n",
    "plt.plot((binnumber - 0.5) * bin_width, dataPDF, 'g.', alpha=0.5)\n",
    "plt.legend(fontsize=10)\n",
    "plt.show()"
   ]
  },
  {
   "cell_type": "code",
   "execution_count": null,
   "id": "691ef9ec",
   "metadata": {},
   "outputs": [],
   "source": [
    "dataPDF = stats.maxwell.pdf(data)\n",
    "bin_means, bin_edges, binnumber = stats.binned_statistic(data, dataPDF,\n",
    "        statistic='mean', bins=30)\n",
    "bin_width = (bin_edges[1] - bin_edges[0])\n",
    "bin_centers = bin_edges[1:] - bin_width/2\n",
    "\n",
    "plt.figure(figsize=(20,10))\n",
    "plt.hist(data, bins=100, density=True, histtype='stepfilled', alpha=0.3, label='Histogram of Brightness Data')\n",
    "plt.hlines(bin_means, bin_edges[:-1], bin_edges[1:], colors='purple', lw=5, label='Binned Stat of Data')\n",
    "plt.plot((binnumber - 0.5) * bin_width, dataPDF, 'g.', alpha=0.5)\n",
    "plt.legend(fontsize=10)\n",
    "plt.show()"
   ]
  },
  {
   "cell_type": "code",
   "execution_count": null,
   "id": "0acd3299",
   "metadata": {},
   "outputs": [],
   "source": [
    "bin_median, bin_edges, binnumber = stats.binned_statistic(data, dataPDF,\n",
    "        statistic='median', bins=45)\n",
    "bin_width = (bin_edges[1] - bin_edges[0])\n",
    "bin_centers = bin_edges[1:] - bin_width/2\n",
    "\n",
    "plt.figure(figsize=(20,10))\n",
    "plt.hist(data, bins=50, density=True, histtype='stepfilled', alpha=0.3, label='Histogram of Brightness Data')\n",
    "plt.plot(data, dataPDF, ':', label = \"Analytical pdf\", lw=0.5)\n",
    "plt.hlines(bin_median, bin_edges[:-1], bin_edges[1:], colors='purple', lw=4, label='Binned Stat of Data')\n",
    "plt.plot((binnumber - 0.5) * bin_width, dataPDF, 'g.', alpha=0.5)\n",
    "plt.legend(fontsize=10)\n",
    "plt.show()"
   ]
  },
  {
   "cell_type": "code",
   "execution_count": null,
   "id": "a667cdfe",
   "metadata": {},
   "outputs": [],
   "source": [
    "bin_median, bin_edges, binnumber = stats.binned_statistic(data, dataPDF,\n",
    "        statistic='median', bins=10)\n",
    "bin_width = (bin_edges[1] - bin_edges[0])\n",
    "bin_centers = bin_edges[1:] - bin_width/2\n",
    "\n",
    "plt.figure(figsize=(20,10))\n",
    "plt.hist(data, bins=30, density=True, histtype='stepfilled', alpha=0.3, label='Histogram of Brightness Data')\n",
    "plt.hlines(bin_median, bin_edges[:-1], bin_edges[1:], colors='purple', lw=4, label='Binned Stat of Data')\n",
    "plt.plot((binnumber - 0.5) * bin_width, dataPDF, 'g.', alpha=0.5)\n",
    "plt.legend(fontsize=10)\n",
    "plt.show()"
   ]
  },
  {
   "cell_type": "markdown",
   "id": "400c0f49",
   "metadata": {},
   "source": [
    "Here we begin to add in the moving averages for further potential data work"
   ]
  },
  {
   "cell_type": "code",
   "execution_count": null,
   "id": "da0df625",
   "metadata": {},
   "outputs": [],
   "source": [
    "pulsar['RollingMeanEmissions5ths'] = pulsar[\"Brightness\"].rolling(5).mean()\n",
    "pulsar['RollingMeanEmissions10ths'] = pulsar[\"Brightness\"].rolling(10).mean()\n",
    "pulsar['RollingMedianEmissions5ths'] = pulsar[\"Brightness\"].rolling(5).median()\n",
    "pulsar['RollingMedianEmissions10ths'] = pulsar[\"Brightness\"].rolling(10).median()\n",
    "pulsar.head(15)"
   ]
  },
  {
   "cell_type": "markdown",
   "id": "9eb398a6",
   "metadata": {},
   "source": [
    "#### Pulsar 2 (J0953+0755):"
   ]
  },
  {
   "cell_type": "code",
   "execution_count": null,
   "id": "b3daa234",
   "metadata": {},
   "outputs": [],
   "source": [
    "data = pulsar2[\"Brightness\"]\n",
    "dataPDF = stats.maxwell.pdf(data)\n",
    "bin_means, bin_edges, binnumber = stats.binned_statistic(data, dataPDF,\n",
    "        statistic='mean', bins=15)\n",
    "bin_width = (bin_edges[1] - bin_edges[0])\n",
    "bin_centers = bin_edges[1:] - bin_width/2\n",
    "\n",
    "plt.figure(figsize=(20,10))\n",
    "plt.hist(data, bins=30, density=True, histtype='stepfilled', alpha=0.3, label='Histogram of Brightness Data')\n",
    "plt.plot(data, dataPDF, '--', label = \"Analytical pdf\")\n",
    "plt.hlines(bin_means, bin_edges[:-1], bin_edges[1:], colors='purple', lw=5, label='Binned Stat of Data')\n",
    "plt.plot((binnumber - 0.5) * bin_width, dataPDF, 'g.', alpha=0.5)\n",
    "plt.legend(fontsize=10)\n",
    "plt.show()"
   ]
  },
  {
   "cell_type": "code",
   "execution_count": null,
   "id": "28a62b17",
   "metadata": {},
   "outputs": [],
   "source": [
    "dataPDF = stats.maxwell.pdf(data)\n",
    "bin_means, bin_edges, binnumber = stats.binned_statistic(data, dataPDF,\n",
    "        statistic='mean', bins=45)\n",
    "bin_width = (bin_edges[1] - bin_edges[0])\n",
    "bin_centers = bin_edges[1:] - bin_width/2\n",
    "\n",
    "plt.figure(figsize=(20,10))\n",
    "plt.hist(data, bins=50, density=True, histtype='stepfilled', alpha=0.3, label='Histogram of Brightness Data')\n",
    "plt.hlines(bin_means, bin_edges[:-1], bin_edges[1:], colors='purple', lw=5, label='Binned Stat of Data')\n",
    "plt.plot((binnumber - 0.5) * bin_width, dataPDF, 'g.', alpha=0.5)\n",
    "plt.legend(fontsize=10)\n",
    "plt.show()"
   ]
  },
  {
   "cell_type": "code",
   "execution_count": null,
   "id": "d97f4294",
   "metadata": {},
   "outputs": [],
   "source": [
    "bin_median, bin_edges, binnumber = stats.binned_statistic(data, dataPDF,\n",
    "        statistic='median', bins=10)\n",
    "bin_width = (bin_edges[1] - bin_edges[0])\n",
    "bin_centers = bin_edges[1:] - bin_width/2\n",
    "\n",
    "plt.figure(figsize=(20,10))\n",
    "plt.hist(data, bins=30, density=True, histtype='stepfilled', alpha=0.3, label='Histogram of Brightness Data')\n",
    "plt.plot(data, dataPDF, ':', label = \"Analytical pdf\", lw=0.5)\n",
    "plt.hlines(bin_median, bin_edges[:-1], bin_edges[1:], colors='purple', lw=4, label='Binned Stat of Data')\n",
    "plt.plot((binnumber - 0.5) * bin_width, dataPDF, 'g.', alpha=0.5)\n",
    "plt.legend(fontsize=10)\n",
    "plt.show()"
   ]
  },
  {
   "cell_type": "code",
   "execution_count": null,
   "id": "bca7cfdf",
   "metadata": {},
   "outputs": [],
   "source": [
    "bin_median, bin_edges, binnumber = stats.binned_statistic(data, dataPDF,\n",
    "        statistic='median', bins=10)\n",
    "bin_width = (bin_edges[1] - bin_edges[0])\n",
    "bin_centers = bin_edges[1:] - bin_width/2\n",
    "\n",
    "plt.figure(figsize=(20,10))\n",
    "plt.hist(data, bins=30, density=True, histtype='stepfilled', alpha=0.3, label='Histogram of Brightness Data')\n",
    "plt.hlines(bin_median, bin_edges[:-1], bin_edges[1:], colors='purple', lw=4, label='Binned Stat of Data')\n",
    "plt.plot((binnumber - 0.5) * bin_width, dataPDF, 'g.', alpha=0.5)\n",
    "plt.legend(fontsize=10)\n",
    "plt.show()"
   ]
  },
  {
   "cell_type": "markdown",
   "id": "d68194d8",
   "metadata": {},
   "source": [
    "Here we begin to add in the moving averages for further potential data work"
   ]
  },
  {
   "cell_type": "code",
   "execution_count": null,
   "id": "0dc0efeb",
   "metadata": {},
   "outputs": [],
   "source": [
    "pulsar2['RollingMeanEmissions5ths'] = pulsar2[\"Brightness\"].rolling(5).mean()\n",
    "pulsar2['RollingMeanEmissions10ths'] = pulsar2[\"Brightness\"].rolling(10).mean()\n",
    "pulsar2['RollingMedianEmissions5ths'] = pulsar2[\"Brightness\"].rolling(5).median()\n",
    "pulsar2.head(15)"
   ]
  },
  {
   "cell_type": "markdown",
   "id": "ed2a4038",
   "metadata": {},
   "source": [
    "#### Pulsar 3 (J0835-4510):"
   ]
  },
  {
   "cell_type": "code",
   "execution_count": null,
   "id": "094891b3",
   "metadata": {},
   "outputs": [],
   "source": [
    "data = pulsar3[\"Brightness\"]\n",
    "dataPDF = stats.maxwell.pdf(data)\n",
    "bin_means, bin_edges, binnumber = stats.binned_statistic(data, dataPDF,\n",
    "        statistic='mean', bins=15)\n",
    "bin_width = (bin_edges[1] - bin_edges[0])\n",
    "bin_centers = bin_edges[1:] - bin_width/2\n",
    "\n",
    "plt.figure(figsize=(20,10))\n",
    "plt.hist(data, bins=30, density=True, histtype='stepfilled', alpha=0.3, label='Histogram of Brightness Data')\n",
    "plt.plot(data, dataPDF, '--', label = \"Analytical pdf\")\n",
    "plt.hlines(bin_means, bin_edges[:-1], bin_edges[1:], 'g', lw=5, label='Binned Stat of Data')\n",
    "plt.plot((binnumber - 0.5) * bin_width, dataPDF, 'g.', alpha=0.5)\n",
    "plt.legend(fontsize=10)\n",
    "plt.show()"
   ]
  },
  {
   "cell_type": "code",
   "execution_count": null,
   "id": "4917244f",
   "metadata": {},
   "outputs": [],
   "source": [
    "bin_median, bin_edges, binnumber = stats.binned_statistic(data, dataPDF,\n",
    "        statistic='median', bins=10)\n",
    "bin_width = (bin_edges[1] - bin_edges[0])\n",
    "bin_centers = bin_edges[1:] - bin_width/2\n",
    "\n",
    "plt.figure(figsize=(20,10))\n",
    "plt.hist(data, bins=30, density=True, histtype='stepfilled', alpha=0.3, label='Histogram of Brightness Data')\n",
    "plt.plot(data, dataPDF, ':', label = \"Analytical pdf\", lw=0.5)\n",
    "plt.hlines(bin_median, bin_edges[:-1], bin_edges[1:], 'g', lw=4, label='Binned Stat of Data')\n",
    "plt.plot((binnumber - 0.5) * bin_width, dataPDF, 'g.', alpha=0.5)\n",
    "plt.legend(fontsize=10)\n",
    "plt.show()"
   ]
  },
  {
   "cell_type": "markdown",
   "id": "b55e32e2",
   "metadata": {},
   "source": [
    "Here we begin to add in the moving averages for further potential data work"
   ]
  },
  {
   "cell_type": "code",
   "execution_count": null,
   "id": "77c3346f",
   "metadata": {},
   "outputs": [],
   "source": [
    "pulsar3['RollingMeanEmissions5ths'] = pulsar3[\"Brightness\"].rolling(5).mean()\n",
    "pulsar3['RollingMedianEmissions5ths'] = pulsar3[\"Brightness\"].rolling(5).median()\n",
    "pulsar3['RollingMedianEmissions10ths'] = pulsar3[\"Brightness\"].rolling(10).median()\n",
    "pulsar3.head(15)"
   ]
  },
  {
   "cell_type": "markdown",
   "id": "7ecefd29",
   "metadata": {},
   "source": [
    "#### Pulsar 4 (J1243-6423):"
   ]
  },
  {
   "cell_type": "code",
   "execution_count": null,
   "id": "10f1837c",
   "metadata": {},
   "outputs": [],
   "source": [
    "data = pulsar4[\"Brightness\"]\n",
    "dataPDF = stats.maxwell.pdf(data)\n",
    "bin_means, bin_edges, binnumber = stats.binned_statistic(data, dataPDF,\n",
    "        statistic='mean', bins=15)\n",
    "bin_width = (bin_edges[1] - bin_edges[0])\n",
    "bin_centers = bin_edges[1:] - bin_width/2\n",
    "\n",
    "plt.figure(figsize=(20,10))\n",
    "plt.hist(data, bins=30, density=True, histtype='stepfilled', alpha=0.3, label='Histogram of Brightness Data')\n",
    "plt.plot(data, dataPDF, '--', label = \"Analytical pdf\")\n",
    "plt.hlines(bin_means, bin_edges[:-1], bin_edges[1:], 'g', lw=5, label='Binned Stat of Data')\n",
    "plt.plot((binnumber - 0.5) * bin_width, dataPDF, 'g.', alpha=0.5)\n",
    "plt.legend(fontsize=10)\n",
    "plt.show()"
   ]
  },
  {
   "cell_type": "code",
   "execution_count": null,
   "id": "3cb5d071",
   "metadata": {},
   "outputs": [],
   "source": [
    "bin_median, bin_edges, binnumber = stats.binned_statistic(data, dataPDF,\n",
    "        statistic='median', bins=10)\n",
    "bin_width = (bin_edges[1] - bin_edges[0])\n",
    "bin_centers = bin_edges[1:] - bin_width/2\n",
    "\n",
    "plt.figure(figsize=(20,10))\n",
    "plt.hist(data, bins=30, density=True, histtype='stepfilled', alpha=0.3, label='Histogram of Brightness Data')\n",
    "plt.plot(data, dataPDF, ':', label = \"Analytical pdf\", lw=0.5)\n",
    "plt.hlines(bin_median, bin_edges[:-1], bin_edges[1:], 'g', lw=4, label='Binned Stat of Data')\n",
    "plt.plot((binnumber - 0.5) * bin_width, dataPDF, 'g.', alpha=0.5)\n",
    "plt.legend(fontsize=10)\n",
    "plt.show()"
   ]
  },
  {
   "cell_type": "markdown",
   "id": "7e43e0df",
   "metadata": {},
   "source": [
    "Here we begin to add in the moving averages for further potential data work"
   ]
  },
  {
   "cell_type": "code",
   "execution_count": null,
   "id": "0b3fdc3d",
   "metadata": {},
   "outputs": [],
   "source": [
    "pulsar4['RollingMeanEmissions5ths'] = pulsar4[\"Brightness\"].rolling(5).mean()\n",
    "pulsar4['RollingMeanEmissions10ths'] = pulsar4[\"Brightness\"].rolling(10).mean()\n",
    "pulsar4['RollingMedianEmissions5ths'] = pulsar4[\"Brightness\"].rolling(5).median()\n",
    "pulsar4['RollingMedianEmissions10ths'] = pulsar4[\"Brightness\"].rolling(10).median()\n",
    "pulsar4.head(15)"
   ]
  },
  {
   "cell_type": "markdown",
   "id": "bb18bf58",
   "metadata": {},
   "source": [
    "\n",
    "#### Pulsar 5 (J1456-6843):"
   ]
  },
  {
   "cell_type": "code",
   "execution_count": null,
   "id": "adfd9ea8",
   "metadata": {},
   "outputs": [],
   "source": [
    "data = pulsar5[\"Brightness\"]\n",
    "dataPDF = stats.maxwell.pdf(data)\n",
    "bin_means, bin_edges, binnumber = stats.binned_statistic(data, dataPDF,\n",
    "        statistic='mean', bins=15)\n",
    "bin_width = (bin_edges[1] - bin_edges[0])\n",
    "bin_centers = bin_edges[1:] - bin_width/2\n",
    "\n",
    "plt.figure(figsize=(20,10))\n",
    "plt.hist(data, bins=30, density=True, histtype='stepfilled', alpha=0.3, label='Histogram of Brightness Data')\n",
    "plt.plot(data, dataPDF, '--', label = \"Analytical pdf\")\n",
    "plt.hlines(bin_means, bin_edges[:-1], bin_edges[1:], 'g', lw=5, label='Binned Stat of Data')\n",
    "plt.plot((binnumber - 0.5) * bin_width, dataPDF, 'g.', alpha=0.5)\n",
    "plt.legend(fontsize=10)\n",
    "plt.show()"
   ]
  },
  {
   "cell_type": "code",
   "execution_count": null,
   "id": "c6e844e2",
   "metadata": {},
   "outputs": [],
   "source": [
    "bin_median, bin_edges, binnumber = stats.binned_statistic(data, dataPDF,\n",
    "        statistic='median', bins=10)\n",
    "bin_width = (bin_edges[1] - bin_edges[0])\n",
    "bin_centers = bin_edges[1:] - bin_width/2\n",
    "\n",
    "plt.figure(figsize=(20,10))\n",
    "plt.hist(data, bins=30, density=True, histtype='stepfilled', alpha=0.3, label='Histogram of Brightness Data')\n",
    "plt.plot(data, dataPDF, ':', label = \"Analytical pdf\", lw=0.5)\n",
    "plt.hlines(bin_median, bin_edges[:-1], bin_edges[1:], 'g', lw=4, label='Binned Stat of Data')\n",
    "plt.plot((binnumber - 0.5) * bin_width, dataPDF, 'g.', alpha=0.5)\n",
    "plt.legend(fontsize=10)\n",
    "plt.show()"
   ]
  },
  {
   "cell_type": "markdown",
   "id": "3399b7da",
   "metadata": {},
   "source": [
    "Here we begin to add in the moving averages for further potential data work"
   ]
  },
  {
   "cell_type": "code",
   "execution_count": null,
   "id": "a3a8a7bb",
   "metadata": {},
   "outputs": [],
   "source": [
    "pulsar5['RollingMeanEmissions5ths'] = pulsar5[\"Brightness\"].rolling(5).mean()\n",
    "pulsar5['RollingMeanEmissions10ths'] = pulsar5[\"Brightness\"].rolling(10).mean()\n",
    "pulsar5['RollingMedianEmissions5ths'] = pulsar5[\"Brightness\"].rolling(5).median()\n",
    "pulsar5['RollingMedianEmissions10ths'] = pulsar5[\"Brightness\"].rolling(10).median()\n",
    "pulsar5.head(15)"
   ]
  },
  {
   "cell_type": "markdown",
   "id": "614b5e41",
   "metadata": {},
   "source": [
    "#### Pulsar 6 (J1644-4559):"
   ]
  },
  {
   "cell_type": "code",
   "execution_count": null,
   "id": "5cf17b6e",
   "metadata": {},
   "outputs": [],
   "source": [
    "data = pulsar6[\"Brightness\"]\n",
    "dataPDF = stats.maxwell.pdf(data)\n",
    "bin_means, bin_edges, binnumber = stats.binned_statistic(data, dataPDF,\n",
    "        statistic='mean', bins=15)\n",
    "bin_width = (bin_edges[1] - bin_edges[0])\n",
    "bin_centers = bin_edges[1:] - bin_width/2\n",
    "\n",
    "plt.figure()\n",
    "plt.hist(data, bins=30, density=True, histtype='stepfilled', alpha=0.3, label='Histogram of Brightness Data')\n",
    "plt.plot(data, dataPDF, '--', label = \"Analytical pdf\")\n",
    "plt.hlines(bin_means, bin_edges[:-1], bin_edges[1:], colors='purple', lw=5, label='Binned Stat of Data')\n",
    "plt.plot((binnumber - 0.5) * bin_width, dataPDF, 'g.', alpha=0.5)\n",
    "plt.legend(fontsize=10)\n",
    "plt.show()"
   ]
  },
  {
   "cell_type": "code",
   "execution_count": null,
   "id": "cc36c71d",
   "metadata": {},
   "outputs": [],
   "source": [
    "bin_median, bin_edges, binnumber = stats.binned_statistic(data, dataPDF,\n",
    "        statistic='median', bins=10)\n",
    "bin_width = (bin_edges[1] - bin_edges[0])\n",
    "bin_centers = bin_edges[1:] - bin_width/2\n",
    "\n",
    "plt.figure()\n",
    "plt.hist(data, bins=30, density=True, histtype='stepfilled', alpha=0.3, label='Histogram of Brightness Data')\n",
    "plt.plot(data, dataPDF, ':', label = \"Analytical pdf\", lw=0.5)\n",
    "plt.hlines(bin_median, bin_edges[:-1], bin_edges[1:], colors='purple', lw=4, label='Binned Stat of Data')\n",
    "plt.plot((binnumber - 0.5) * bin_width, dataPDF, 'g.', alpha=0.5)\n",
    "plt.legend(fontsize=10)\n",
    "plt.show()"
   ]
  },
  {
   "cell_type": "markdown",
   "id": "a40736db",
   "metadata": {},
   "source": [
    "Here we begin to add in the moving averages for further potential data work"
   ]
  },
  {
   "cell_type": "code",
   "execution_count": null,
   "id": "1b7a4c11",
   "metadata": {},
   "outputs": [],
   "source": [
    "pulsar6['RollingMeanEmissions5ths'] = pulsar6[\"Brightness\"].rolling(5).mean()\n",
    "pulsar6['RollingMeanEmissions10ths'] = pulsar6[\"Brightness\"].rolling(10).mean()\n",
    "pulsar6['RollingMedianEmissions5ths'] = pulsar6[\"Brightness\"].rolling(5).median()\n",
    "pulsar6['RollingMedianEmissions10ths'] = pulsar6[\"Brightness\"].rolling(10).median()\n",
    "pulsar6.head(15)"
   ]
  },
  {
   "cell_type": "markdown",
   "id": "eda88ef8",
   "metadata": {},
   "source": [
    "### Machine Learning Both Logistic then Bi-Directional LSTM"
   ]
  },
  {
   "cell_type": "markdown",
   "id": "190ed0e5",
   "metadata": {},
   "source": [
    "#### Pulsar 1 (J0437-4715):"
   ]
  },
  {
   "cell_type": "markdown",
   "id": "6df5167a",
   "metadata": {},
   "source": [
    "Logistic Regression (Classification Model)"
   ]
  },
  {
   "cell_type": "code",
   "execution_count": null,
   "id": "ee233380",
   "metadata": {},
   "outputs": [],
   "source": [
    "X = pulsar1[['Brightness', 'Uncertainty']]\n",
    "y = pulsar1['Binary']\n",
    "\n",
    "X_train, X_test, y_train, y_test = train_test_split(X, y , test_size=0.20)\n",
    "\n",
    "train_scaler = StandardScaler()\n",
    "X_train = train_scaler.fit_transform(X_train)\n",
    "\n",
    "test_scaler = StandardScaler()\n",
    "X_test = test_scaler.fit_transform(X_test)\n",
    "\n",
    "model = LogisticRegression()\n",
    "\n",
    "model.fit(X_train, y_train)\n",
    "\n",
    "predictions = model.predict(X_test)"
   ]
  },
  {
   "cell_type": "code",
   "execution_count": null,
   "id": "19b1b76b",
   "metadata": {},
   "outputs": [],
   "source": [
    "cm = confusion_matrix(y_test, predictions)\n",
    "\n",
    "TN, FP, FN, TP = confusion_matrix(y_test, predictions).ravel()\n",
    "\n",
    "print('True Positive(TP)  = ', TP)\n",
    "print('False Positive(FP) = ', FP)\n",
    "print('True Negative(TN)  = ', TN)\n",
    "print('False Negative(FN) = ', FN)"
   ]
  },
  {
   "cell_type": "code",
   "execution_count": null,
   "id": "297733f2",
   "metadata": {},
   "outputs": [],
   "source": [
    "score=model.score(X_test,y_test)\n",
    "print(score)"
   ]
  },
  {
   "cell_type": "markdown",
   "id": "082fdf59",
   "metadata": {},
   "source": [
    "Bi-Directional LSTM (Regression Model)"
   ]
  },
  {
   "cell_type": "code",
   "execution_count": null,
   "id": "d8099d97",
   "metadata": {},
   "outputs": [],
   "source": [
    "values_list = pulsar1[['Brightness', 'Uncertainty']].values.tolist()\n",
    "values_list = preprocessing.normalize(values_list)\n",
    "def split_list(blist, steps):\n",
    "    X, y = list(), list()\n",
    "    for i in range(len(blist)):        \n",
    "        end_ix = i + steps\n",
    "        if end_ix > len(blist)-1:\n",
    "            break    \n",
    "        list_x, list_y = blist[i:end_ix], blist[end_ix][0]\n",
    "        X.append(list_x)\n",
    "        y.append(list_y)\n",
    "    return array(X), array(y)\n",
    "# splitting the list\n",
    "X, y = split_list(values_list, 100)\n",
    "# reshaping the list to feed the model\n",
    "X = X.reshape((X.shape[0], X.shape[1], 2))\n",
    "# splitting the list into train and test sets\n",
    "X_train, X_test, y_train, y_test = train_test_split(X, y , test_size=0.20)\n",
    "# setting the parameters for the lstm model and compiling it\n",
    "model = Sequential()\n",
    "model.add(Bidirectional(LSTM(50), input_shape=(100, 2)))\n",
    "model.add(Dense(25))\n",
    "model.add(Dense(12))\n",
    "model.add(Dense(6))\n",
    "model.add(Dense(1))\n",
    "model.compile(optimizer='adam', loss='mse', metrics=['mse'])\n",
    "# training the model\n",
    "history = model.fit(X_train, y_train, validation_data=(X_test, y_test), epochs=2, verbose=1, batch_size=(int(X_train.shape[0]/50)))\n",
    "# predicting the y/brightness values for the test set\n",
    "y_pred = model.predict(X_test, verbose=0)"
   ]
  },
  {
   "cell_type": "code",
   "execution_count": null,
   "id": "c8528272",
   "metadata": {},
   "outputs": [],
   "source": [
    "print('R2 Score: ', r2_score(y_test, y_pred))\n",
    "print('MAE: ', mean_absolute_error(y_test, y_pred))\n",
    "print('RSE: ', math.sqrt(mean_absolute_error(y_test, y_pred)))"
   ]
  },
  {
   "cell_type": "code",
   "execution_count": null,
   "id": "afc98a7d",
   "metadata": {},
   "outputs": [],
   "source": [
    "plt.title('Loss / Mean Squared Error')\n",
    "plt.plot(history.history['loss'], label='train')\n",
    "plt.plot(history.history['val_loss'], label='test')\n",
    "plt.legend()\n",
    "plt.show()"
   ]
  },
  {
   "cell_type": "markdown",
   "id": "4a44fe55",
   "metadata": {},
   "source": [
    "##### Evaluation\n",
    "\n",
    "Logistic Regression\n",
    "\n",
    "Rewards no significant results for this type of analysis and is dropped for a LSTM attempt\n",
    "\n",
    "Bidirectional LSTM\n",
    "\n",
    "Loss is low so the model is performing well. But the accuracy is low therefore unable to obtain trend and therefore not rewarding any information. This means we cannot predict any of the values with confidence."
   ]
  },
  {
   "cell_type": "markdown",
   "id": "7835929c",
   "metadata": {},
   "source": [
    "#### Pulsar 2 (J0953+0755):"
   ]
  },
  {
   "cell_type": "markdown",
   "id": "5bca93ac",
   "metadata": {},
   "source": [
    "Logistic Regression (Classification Model)"
   ]
  },
  {
   "cell_type": "code",
   "execution_count": null,
   "id": "1eb6373b",
   "metadata": {},
   "outputs": [],
   "source": [
    "X = pulsar2[['Brightness', 'Uncertainty']]\n",
    "y = pulsar2['Binary']\n",
    "\n",
    "X_train, X_test, y_train, y_test = train_test_split(X, y , test_size=0.20)\n",
    "\n",
    "train_scaler = StandardScaler()\n",
    "X_train = train_scaler.fit_transform(X_train)\n",
    "\n",
    "test_scaler = StandardScaler()\n",
    "X_test = test_scaler.fit_transform(X_test)\n",
    "\n",
    "model = LogisticRegression()\n",
    "\n",
    "model.fit(X_train, y_train)\n",
    "\n",
    "predictions = model.predict(X_test)"
   ]
  },
  {
   "cell_type": "code",
   "execution_count": null,
   "id": "55472440",
   "metadata": {},
   "outputs": [],
   "source": [
    "cm = confusion_matrix(y_test, predictions)\n",
    "\n",
    "TN, FP, FN, TP = confusion_matrix(y_test, predictions).ravel()\n",
    "\n",
    "score=model.score(X_test,y_test)\n",
    "\n",
    "print('True Positive(TP)  = ', TP)\n",
    "print('False Positive(FP) = ', FP)\n",
    "print('True Negative(TN)  = ', TN)\n",
    "print('False Negative(FN) = ', FN)\n",
    "\n",
    "print(score)"
   ]
  },
  {
   "cell_type": "markdown",
   "id": "5e9c9ed5",
   "metadata": {},
   "source": [
    "Bi-Directional LSTM (Regression Model)"
   ]
  },
  {
   "cell_type": "code",
   "execution_count": null,
   "id": "73e4d68f",
   "metadata": {},
   "outputs": [],
   "source": [
    "values_list = pulsar2[['Brightness', 'Uncertainty']].values.tolist()\n",
    "values_list = preprocessing.normalize(values_list)\n",
    "def split_list(blist, steps):\n",
    "    X, y = list(), list()\n",
    "    for i in range(len(blist)):        \n",
    "        end_ix = i + steps\n",
    "        if end_ix > len(blist)-1:\n",
    "            break    \n",
    "        list_x, list_y = blist[i:end_ix], blist[end_ix][0]\n",
    "        X.append(list_x)\n",
    "        y.append(list_y)\n",
    "    return array(X), array(y)\n",
    "# splitting the list\n",
    "X, y = split_list(values_list, 100)\n",
    "# reshaping the list to feed the model\n",
    "X = X.reshape((X.shape[0], X.shape[1], 2))\n",
    "# splitting the list into train and test sets\n",
    "X_train, X_test, y_train, y_test = train_test_split(X, y , test_size=0.20)\n",
    "# setting the parameters for the lstm model and compiling it\n",
    "model = Sequential()\n",
    "model.add(Bidirectional(LSTM(50), input_shape=(100, 2)))\n",
    "model.add(Dense(25))\n",
    "model.add(Dense(12))\n",
    "model.add(Dense(6))\n",
    "model.add(Dense(1))\n",
    "model.compile(optimizer='adam', loss='mse', metrics=['mse'])\n",
    "# training the model\n",
    "history = model.fit(X_train, y_train, validation_data=(X_test, y_test), epochs=2, verbose=1, batch_size=(int(X_train.shape[0]/50)))\n",
    "# predicting the y/brightness values for the test set\n",
    "y_pred = model.predict(X_test, verbose=0)"
   ]
  },
  {
   "cell_type": "code",
   "execution_count": null,
   "id": "297b103f",
   "metadata": {},
   "outputs": [],
   "source": [
    "print('R2 Score: ', r2_score(y_test, y_pred))\n",
    "print('MAE: ', mean_absolute_error(y_test, y_pred))\n",
    "print('RSE: ', math.sqrt(mean_absolute_error(y_test, y_pred)))"
   ]
  },
  {
   "cell_type": "code",
   "execution_count": null,
   "id": "1bcf2265",
   "metadata": {},
   "outputs": [],
   "source": [
    "plt.title('Loss / Mean Squared Error')\n",
    "plt.plot(history.history['loss'], label='train')\n",
    "plt.plot(history.history['val_loss'], label='test')\n",
    "plt.legend()\n",
    "plt.show()"
   ]
  },
  {
   "cell_type": "markdown",
   "id": "e08c0314",
   "metadata": {},
   "source": [
    "##### Evaluation\n",
    "\n",
    "Logistic Regression\n",
    "\n",
    "Rewards no significant results for this type of analysis and is dropped for a LSTM attempt\n",
    "\n",
    "Bidirectional LSTM\n",
    "\n",
    "Loss is low so the model is performing well. But the accuracy is low therefore unable to obtain trend and therefore not rewarding any information. This means we cannot predict any of the values with confidence."
   ]
  },
  {
   "cell_type": "markdown",
   "id": "b526ed0a",
   "metadata": {},
   "source": [
    "#### Pulsar 3 (J0835-4510):"
   ]
  },
  {
   "cell_type": "markdown",
   "id": "5b3e0246",
   "metadata": {},
   "source": [
    "Logistic Regression (Classification Model)"
   ]
  },
  {
   "cell_type": "code",
   "execution_count": null,
   "id": "e9383624",
   "metadata": {},
   "outputs": [],
   "source": [
    "X = pulsar3[['Brightness', 'Uncertainty']]\n",
    "y = pulsar3['Binary']\n",
    "\n",
    "X_train, X_test, y_train, y_test = train_test_split(X, y , test_size=0.20)\n",
    "\n",
    "train_scaler = StandardScaler()\n",
    "X_train = train_scaler.fit_transform(X_train)\n",
    "\n",
    "test_scaler = StandardScaler()\n",
    "X_test = test_scaler.fit_transform(X_test)\n",
    "\n",
    "model = LogisticRegression()\n",
    "\n",
    "model.fit(X_train, y_train)\n",
    "\n",
    "predictions = model.predict(X_test)"
   ]
  },
  {
   "cell_type": "code",
   "execution_count": null,
   "id": "0472e3f4",
   "metadata": {},
   "outputs": [],
   "source": [
    "cm = confusion_matrix(y_test, predictions)\n",
    "\n",
    "TN, FP, FN, TP = confusion_matrix(y_test, predictions).ravel()\n",
    "\n",
    "score=model.score(X_test,y_test)\n",
    "\n",
    "print('True Positive(TP)  = ', TP)\n",
    "print('False Positive(FP) = ', FP)\n",
    "print('True Negative(TN)  = ', TN)\n",
    "print('False Negative(FN) = ', FN)\n",
    "\n",
    "print(score)"
   ]
  },
  {
   "cell_type": "markdown",
   "id": "ad79610a",
   "metadata": {},
   "source": [
    "Bi-Directional LSTM (Regression Model)"
   ]
  },
  {
   "cell_type": "code",
   "execution_count": null,
   "id": "09473f0d",
   "metadata": {},
   "outputs": [],
   "source": [
    "values_list = pulsar3[['Brightness', 'Uncertainty']].values.tolist()\n",
    "values_list = preprocessing.normalize(values_list)\n",
    "def split_list(blist, steps):\n",
    "    X, y = list(), list()\n",
    "    for i in range(len(blist)):        \n",
    "        end_ix = i + steps\n",
    "        if end_ix > len(blist)-1:\n",
    "            break    \n",
    "        list_x, list_y = blist[i:end_ix], blist[end_ix][0]\n",
    "        X.append(list_x)\n",
    "        y.append(list_y)\n",
    "    return array(X), array(y)\n",
    "# splitting the list\n",
    "X, y = split_list(values_list, 100)\n",
    "# reshaping the list to feed the model\n",
    "X = X.reshape((X.shape[0], X.shape[1], 2))\n",
    "# splitting the list into train and test sets\n",
    "X_train, X_test, y_train, y_test = train_test_split(X, y , test_size=0.20)\n",
    "# setting the parameters for the lstm model and compiling it\n",
    "model = Sequential()\n",
    "model.add(Bidirectional(LSTM(50), input_shape=(100, 2)))\n",
    "model.add(Dense(25))\n",
    "model.add(Dense(12))\n",
    "model.add(Dense(6))\n",
    "model.add(Dense(1))\n",
    "model.compile(optimizer='adam', loss='mse', metrics=['mse'])\n",
    "# training the model\n",
    "history = model.fit(X_train, y_train, validation_data=(X_test, y_test), epochs=2, verbose=1, batch_size=(int(X_train.shape[0]/50)))\n",
    "# predicting the y/brightness values for the test set\n",
    "y_pred = model.predict(X_test, verbose=0)"
   ]
  },
  {
   "cell_type": "code",
   "execution_count": null,
   "id": "99f925bc",
   "metadata": {},
   "outputs": [],
   "source": [
    "print('R2 Score: ', r2_score(y_test, y_pred))\n",
    "print('MAE: ', mean_absolute_error(y_test, y_pred))\n",
    "print('RSE: ', math.sqrt(mean_absolute_error(y_test, y_pred)))"
   ]
  },
  {
   "cell_type": "code",
   "execution_count": null,
   "id": "95c8750e",
   "metadata": {},
   "outputs": [],
   "source": [
    "plt.title('Loss / Mean Squared Error')\n",
    "plt.plot(history.history['loss'], label='train')\n",
    "plt.plot(history.history['val_loss'], label='test')\n",
    "plt.legend()\n",
    "plt.show()"
   ]
  },
  {
   "cell_type": "markdown",
   "id": "a62cfdf7",
   "metadata": {},
   "source": [
    "##### Evaluation\n",
    "\n",
    "Logistic Regression\n",
    "\n",
    "Rewards no significant results for this type of analysis and is dropped for a LSTM attempt\n",
    "\n",
    "Bidirectional LSTM\n",
    "\n",
    "Loss is low so the model is performing well. But the accuracy is low therefore unable to obtain trend and therefore not rewarding any information. This means we cannot predict any of the values with confidence."
   ]
  },
  {
   "cell_type": "markdown",
   "id": "e3b69427",
   "metadata": {},
   "source": [
    "#### Pulsar 4 (J1243-6423):"
   ]
  },
  {
   "cell_type": "markdown",
   "id": "0e51db38",
   "metadata": {},
   "source": [
    "Logistic Regression (Classification Model)"
   ]
  },
  {
   "cell_type": "code",
   "execution_count": null,
   "id": "64e9663e",
   "metadata": {},
   "outputs": [],
   "source": [
    "X = pulsar4[['Brightness', 'Uncertainty']]\n",
    "y = pulsar4['Binary']\n",
    "\n",
    "X_train, X_test, y_train, y_test = train_test_split(X, y , test_size=0.20)\n",
    "\n",
    "train_scaler = StandardScaler()\n",
    "X_train = train_scaler.fit_transform(X_train)\n",
    "\n",
    "test_scaler = StandardScaler()\n",
    "X_test = test_scaler.fit_transform(X_test)\n",
    "\n",
    "model = LogisticRegression()\n",
    "\n",
    "model.fit(X_train, y_train)\n",
    "\n",
    "predictions = model.predict(X_test)"
   ]
  },
  {
   "cell_type": "code",
   "execution_count": null,
   "id": "7e0b59cd",
   "metadata": {},
   "outputs": [],
   "source": [
    "cm = confusion_matrix(y_test, predictions)\n",
    "\n",
    "TN, FP, FN, TP = confusion_matrix(y_test, predictions).ravel()\n",
    "\n",
    "score=model.score(X_test,y_test)\n",
    "\n",
    "print('True Positive(TP)  = ', TP)\n",
    "print('False Positive(FP) = ', FP)\n",
    "print('True Negative(TN)  = ', TN)\n",
    "print('False Negative(FN) = ', FN)\n",
    "\n",
    "print(score)"
   ]
  },
  {
   "cell_type": "markdown",
   "id": "eeefa5f3",
   "metadata": {},
   "source": [
    "Bi-Directional LSTM (Regression Model)"
   ]
  },
  {
   "cell_type": "code",
   "execution_count": null,
   "id": "b9b585c3",
   "metadata": {},
   "outputs": [],
   "source": [
    "values_list = pulsar4[['Brightness', 'Uncertainty']].values.tolist()\n",
    "values_list = preprocessing.normalize(values_list)\n",
    "def split_list(blist, steps):\n",
    "    X, y = list(), list()\n",
    "    for i in range(len(blist)):        \n",
    "        end_ix = i + steps\n",
    "        if end_ix > len(blist)-1:\n",
    "            break    \n",
    "        list_x, list_y = blist[i:end_ix], blist[end_ix][0]\n",
    "        X.append(list_x)\n",
    "        y.append(list_y)\n",
    "    return array(X), array(y)\n",
    "# splitting the list\n",
    "X, y = split_list(values_list, 100)\n",
    "# reshaping the list to feed the model\n",
    "X = X.reshape((X.shape[0], X.shape[1], 2))\n",
    "# splitting the list into train and test sets\n",
    "X_train, X_test, y_train, y_test = train_test_split(X, y , test_size=0.20)\n",
    "# setting the parameters for the lstm model and compiling it\n",
    "model = Sequential()\n",
    "model.add(Bidirectional(LSTM(50), input_shape=(100, 2)))\n",
    "model.add(Dense(25))\n",
    "model.add(Dense(12))\n",
    "model.add(Dense(6))\n",
    "model.add(Dense(1))\n",
    "model.compile(optimizer='adam', loss='mse', metrics=['mse'])\n",
    "# training the model\n",
    "history = model.fit(X_train, y_train, validation_data=(X_test, y_test), epochs=2, verbose=1, batch_size=(int(X_train.shape[0]/50)))\n",
    "# predicting the y/brightness values for the test set\n",
    "y_pred = model.predict(X_test, verbose=0)"
   ]
  },
  {
   "cell_type": "code",
   "execution_count": null,
   "id": "4f527a98",
   "metadata": {},
   "outputs": [],
   "source": [
    "print('R2 Score: ', r2_score(y_test, y_pred))\n",
    "print('MAE: ', mean_absolute_error(y_test, y_pred))\n",
    "print('RSE: ', math.sqrt(mean_absolute_error(y_test, y_pred)))"
   ]
  },
  {
   "cell_type": "code",
   "execution_count": null,
   "id": "6d067ac2",
   "metadata": {},
   "outputs": [],
   "source": [
    "plt.title('Loss / Mean Squared Error')\n",
    "plt.plot(history.history['loss'], label='train')\n",
    "plt.plot(history.history['val_loss'], label='test')\n",
    "plt.legend()\n",
    "plt.show()"
   ]
  },
  {
   "cell_type": "markdown",
   "id": "d7bd2eae",
   "metadata": {},
   "source": [
    "##### Evaluation\n",
    "\n",
    "Logistic Regression\n",
    "\n",
    "Rewards no significant results for this type of analysis and is dropped for a LSTM attempt\n",
    "\n",
    "Bidirectional LSTM\n",
    "\n",
    "Loss is low so the model is performing well. But the accuracy is low therefore unable to obtain trend and therefore not rewarding any information. This means we cannot predict any of the values with confidence."
   ]
  },
  {
   "cell_type": "markdown",
   "id": "f0e6ff08",
   "metadata": {},
   "source": [
    "#### Pulsar 5 (J1456-6843):"
   ]
  },
  {
   "cell_type": "markdown",
   "id": "107c7cc7",
   "metadata": {},
   "source": [
    "Logistic Regression (Classification Model)"
   ]
  },
  {
   "cell_type": "code",
   "execution_count": null,
   "id": "0c31a472",
   "metadata": {},
   "outputs": [],
   "source": [
    "X = pulsar5[['Brightness', 'Uncertainty']]\n",
    "y = pulsar5['Binary']\n",
    "\n",
    "X_train, X_test, y_train, y_test = train_test_split(X, y , test_size=0.20)\n",
    "\n",
    "train_scaler = StandardScaler()\n",
    "X_train = train_scaler.fit_transform(X_train)\n",
    "\n",
    "test_scaler = StandardScaler()\n",
    "X_test = test_scaler.fit_transform(X_test)\n",
    "\n",
    "model = LogisticRegression()\n",
    "\n",
    "model.fit(X_train, y_train)\n",
    "\n",
    "predictions = model.predict(X_test)"
   ]
  },
  {
   "cell_type": "code",
   "execution_count": null,
   "id": "6f70fd00",
   "metadata": {},
   "outputs": [],
   "source": [
    "cm = confusion_matrix(y_test, predictions)\n",
    "\n",
    "TN, FP, FN, TP = confusion_matrix(y_test, predictions).ravel()\n",
    "\n",
    "score=model.score(X_test,y_test)\n",
    "\n",
    "print('True Positive(TP)  = ', TP)\n",
    "print('False Positive(FP) = ', FP)\n",
    "print('True Negative(TN)  = ', TN)\n",
    "print('False Negative(FN) = ', FN)\n",
    "\n",
    "print(score)"
   ]
  },
  {
   "cell_type": "markdown",
   "id": "51822216",
   "metadata": {},
   "source": [
    "Bi-Directional LSTM (Regression Model)"
   ]
  },
  {
   "cell_type": "code",
   "execution_count": null,
   "id": "f5272815",
   "metadata": {},
   "outputs": [],
   "source": [
    "values_list = pulsar5[['Brightness', 'Uncertainty']].values.tolist()\n",
    "values_list = preprocessing.normalize(values_list)\n",
    "def split_list(blist, steps):\n",
    "    X, y = list(), list()\n",
    "    for i in range(len(blist)):        \n",
    "        end_ix = i + steps\n",
    "        if end_ix > len(blist)-1:\n",
    "            break    \n",
    "        list_x, list_y = blist[i:end_ix], blist[end_ix][0]\n",
    "        X.append(list_x)\n",
    "        y.append(list_y)\n",
    "    return array(X), array(y)\n",
    "# splitting the list\n",
    "X, y = split_list(values_list, 100)\n",
    "# reshaping the list to feed the model\n",
    "X = X.reshape((X.shape[0], X.shape[1], 2))\n",
    "# splitting the list into train and test sets\n",
    "X_train, X_test, y_train, y_test = train_test_split(X, y , test_size=0.20)\n",
    "# setting the parameters for the lstm model and compiling it\n",
    "model = Sequential()\n",
    "model.add(Bidirectional(LSTM(50), input_shape=(100, 2)))\n",
    "model.add(Dense(25))\n",
    "model.add(Dense(12))\n",
    "model.add(Dense(6))\n",
    "model.add(Dense(1))\n",
    "model.compile(optimizer='adam', loss='mse', metrics=['mse'])\n",
    "# training the model\n",
    "history = model.fit(X_train, y_train, validation_data=(X_test, y_test), epochs=2, verbose=1, batch_size=(int(X_train.shape[0]/50)))\n",
    "# predicting the y/brightness values for the test set\n",
    "y_pred = model.predict(X_test, verbose=0)"
   ]
  },
  {
   "cell_type": "code",
   "execution_count": null,
   "id": "c94677ee",
   "metadata": {},
   "outputs": [],
   "source": [
    "print('R2 Score: ', r2_score(y_test, y_pred))\n",
    "print('MAE: ', mean_absolute_error(y_test, y_pred))\n",
    "print('RSE: ', math.sqrt(mean_absolute_error(y_test, y_pred)))"
   ]
  },
  {
   "cell_type": "code",
   "execution_count": null,
   "id": "f28f6c3b",
   "metadata": {},
   "outputs": [],
   "source": [
    "plt.title('Loss / Mean Squared Error')\n",
    "plt.plot(history.history['loss'], label='train')\n",
    "plt.plot(history.history['val_loss'], label='test')\n",
    "plt.legend()\n",
    "plt.show()"
   ]
  },
  {
   "cell_type": "markdown",
   "id": "8d53b6b4",
   "metadata": {},
   "source": [
    "##### Evaluation\n",
    "\n",
    "Logistic Regression\n",
    "\n",
    "Rewards no significant results for this type of analysis and is dropped for a LSTM attempt\n",
    "\n",
    "Bidirectional LSTM\n",
    "\n",
    "Loss is low so the model is performing well. But the accuracy is low therefore unable to obtain trend and therefore not rewarding any information. This means we cannot predict any of the values with confidence."
   ]
  },
  {
   "cell_type": "markdown",
   "id": "e36c92cf",
   "metadata": {},
   "source": [
    "\n",
    "#### Pulsar 6 (J1644-4559):"
   ]
  },
  {
   "cell_type": "markdown",
   "id": "becc2e76",
   "metadata": {},
   "source": [
    "Logistic Regression (Classification Model)"
   ]
  },
  {
   "cell_type": "code",
   "execution_count": null,
   "id": "22c17015",
   "metadata": {},
   "outputs": [],
   "source": [
    "X = pulsar6[['Brightness', 'Uncertainty']]\n",
    "y = pulsar6['Binary']\n",
    "\n",
    "X_train, X_test, y_train, y_test = train_test_split(X, y , test_size=0.20)\n",
    "\n",
    "train_scaler = StandardScaler()\n",
    "X_train = train_scaler.fit_transform(X_train)\n",
    "\n",
    "test_scaler = StandardScaler()\n",
    "X_test = test_scaler.fit_transform(X_test)\n",
    "\n",
    "model = LogisticRegression()\n",
    "\n",
    "model.fit(X_train, y_train)\n",
    "\n",
    "predictions = model.predict(X_test)"
   ]
  },
  {
   "cell_type": "code",
   "execution_count": null,
   "id": "3b2762d9",
   "metadata": {},
   "outputs": [],
   "source": [
    "cm = confusion_matrix(y_test, predictions)\n",
    "\n",
    "TN, FP, FN, TP = confusion_matrix(y_test, predictions).ravel()\n",
    "\n",
    "score=model.score(X_test,y_test)\n",
    "\n",
    "print('True Positive(TP)  = ', TP)\n",
    "print('False Positive(FP) = ', FP)\n",
    "print('True Negative(TN)  = ', TN)\n",
    "print('False Negative(FN) = ', FN)\n",
    "\n",
    "print(score)"
   ]
  },
  {
   "cell_type": "markdown",
   "id": "71094a6d",
   "metadata": {},
   "source": [
    "Bi-Directional LSTM (Regression Model)"
   ]
  },
  {
   "cell_type": "code",
   "execution_count": null,
   "id": "4055105b",
   "metadata": {},
   "outputs": [],
   "source": [
    "values_list = pulsar6[['Brightness', 'Uncertainty']].values.tolist()\n",
    "values_list = preprocessing.normalize(values_list)\n",
    "def split_list(blist, steps):\n",
    "    X, y = list(), list()\n",
    "    for i in range(len(blist)):        \n",
    "        end_ix = i + steps\n",
    "        if end_ix > len(blist)-1:\n",
    "            break    \n",
    "        list_x, list_y = blist[i:end_ix], blist[end_ix][0]\n",
    "        X.append(list_x)\n",
    "        y.append(list_y)\n",
    "    return array(X), array(y)\n",
    "# splitting the list\n",
    "X, y = split_list(values_list, 100)\n",
    "# reshaping the list to feed the model\n",
    "X = X.reshape((X.shape[0], X.shape[1], 2))\n",
    "# splitting the list into train and test sets\n",
    "X_train, X_test, y_train, y_test = train_test_split(X, y , test_size=0.20)\n",
    "# setting the parameters for the lstm model and compiling it\n",
    "model = Sequential()\n",
    "model.add(Bidirectional(LSTM(50), input_shape=(100, 2)))\n",
    "model.add(Dense(25))\n",
    "model.add(Dense(12))\n",
    "model.add(Dense(6))\n",
    "model.add(Dense(1))\n",
    "model.compile(optimizer='adam', loss='mse', metrics=['mse'])\n",
    "# training the model\n",
    "history = model.fit(X_train, y_train, validation_data=(X_test, y_test), epochs=2, verbose=1, batch_size=(int(X_train.shape[0]/50)))\n",
    "# predicting the y/brightness values for the test set\n",
    "y_pred = model.predict(X_test, verbose=0)"
   ]
  },
  {
   "cell_type": "code",
   "execution_count": null,
   "id": "7f179ffc",
   "metadata": {},
   "outputs": [],
   "source": [
    "print('R2 Score: ', r2_score(y_test, y_pred))\n",
    "print('MAE: ', mean_absolute_error(y_test, y_pred))\n",
    "print('RSE: ', math.sqrt(mean_absolute_error(y_test, y_pred)))"
   ]
  },
  {
   "cell_type": "code",
   "execution_count": null,
   "id": "061e677b",
   "metadata": {},
   "outputs": [],
   "source": [
    "plt.title('Loss / Mean Squared Error')\n",
    "plt.plot(history.history['loss'], label='train')\n",
    "plt.plot(history.history['val_loss'], label='test')\n",
    "plt.legend()\n",
    "plt.show()"
   ]
  },
  {
   "cell_type": "markdown",
   "id": "bc73284d",
   "metadata": {},
   "source": [
    "##### Evaluation\n",
    "\n",
    "Logistic Regression\n",
    "\n",
    "Rewards no significant results for this type of analysis and is dropped for a LSTM attempt\n",
    "\n",
    "Bidirectional LSTM\n",
    "\n",
    "Loss is low so the model is performing well. But the accuracy is low therefore unable to obtain trend and therefore not rewarding any information. This means we cannot predict any of the values with confidence."
   ]
  },
  {
   "cell_type": "markdown",
   "id": "92c0a924",
   "metadata": {},
   "source": [
    "### Auto Correlation and Covariance with Export of pulsar with correlated dataset."
   ]
  },
  {
   "cell_type": "markdown",
   "id": "6b379864",
   "metadata": {},
   "source": [
    "#### Pulsar 1 (J0437-4715):"
   ]
  },
  {
   "cell_type": "code",
   "execution_count": null,
   "id": "fae4d864",
   "metadata": {},
   "outputs": [],
   "source": [
    "plt.style.use(\"seaborn\")\n",
    "plt.rcParams[\"figure.figsize\"] = (18, 9)\n",
    "\n",
    "fig, ax = plt.subplots(2,1)\n",
    "\n",
    "plot_acf(pulsar['Brightness'], ax=ax[0])\n",
    "plot_pacf(pulsar['Brightness'], ax=ax[1], method=\"ols\")"
   ]
  },
  {
   "cell_type": "code",
   "execution_count": null,
   "id": "1b97c768",
   "metadata": {},
   "outputs": [],
   "source": [
    "acfpulsar = pd.DataFrame()\n",
    "for lag in range(0,11):\n",
    "    acfpulsar[f\"B_lag_{lag}\"] = pulsar['Brightness'].shift(lag)\n",
    "\n",
    "acfpulsar"
   ]
  },
  {
   "cell_type": "code",
   "execution_count": null,
   "id": "050b064d",
   "metadata": {},
   "outputs": [],
   "source": [
    "acfpulsar.corr()[\"B_lag_0\"].values"
   ]
  },
  {
   "cell_type": "code",
   "execution_count": null,
   "id": "8cfd594e",
   "metadata": {},
   "outputs": [],
   "source": [
    "held5ths = pulsar[pulsar.index % 5 == 0]"
   ]
  },
  {
   "cell_type": "code",
   "execution_count": null,
   "id": "7274b9b1",
   "metadata": {},
   "outputs": [],
   "source": [
    "np.savetxt(r'every5thbinarypulsar1.txt', held5ths.Binary, fmt='%d', delimiter='')\n",
    "pulsar15thsbinary = held5ths.Binary.to_list()\n",
    "np.savetxt(r'allpulsar1.txt', pulsar.Binary, fmt='%d', delimiter='')"
   ]
  },
  {
   "cell_type": "markdown",
   "id": "aa918e41",
   "metadata": {},
   "source": [
    "#### Pulsar 2 (J0953+0755):"
   ]
  },
  {
   "cell_type": "code",
   "execution_count": null,
   "id": "d4f0fa9c",
   "metadata": {},
   "outputs": [],
   "source": [
    "plt.style.use(\"seaborn\")\n",
    "plt.rcParams[\"figure.figsize\"] = (18, 9)\n",
    "\n",
    "fig, ax = plt.subplots(2,1)\n",
    "\n",
    "plot_acf(pulsar2['Brightness'], ax=ax[0])\n",
    "plot_pacf(pulsar2['Brightness'], ax=ax[1], method=\"ols\")"
   ]
  },
  {
   "cell_type": "code",
   "execution_count": null,
   "id": "7d8f1113",
   "metadata": {},
   "outputs": [],
   "source": [
    "acfpulsar = pd.DataFrame()\n",
    "for lag in range(0,11):\n",
    "    acfpulsar[f\"B_lag_{lag}\"] = pulsar2['Brightness'].shift(lag)\n",
    "\n",
    "acfpulsar"
   ]
  },
  {
   "cell_type": "code",
   "execution_count": null,
   "id": "2fbd4f69",
   "metadata": {},
   "outputs": [],
   "source": [
    "acfpulsar.corr()[\"B_lag_0\"].values"
   ]
  },
  {
   "cell_type": "code",
   "execution_count": null,
   "id": "c5adfdfa",
   "metadata": {},
   "outputs": [],
   "source": [
    "held5ths = pulsar2[pulsar2.index % 5 == 0]"
   ]
  },
  {
   "cell_type": "code",
   "execution_count": null,
   "id": "c9b8d288",
   "metadata": {},
   "outputs": [],
   "source": [
    "np.savetxt(r'every5thbinarypulsar2.txt', held5ths.Binary, fmt='%d', delimiter='')\n",
    "pulsar25thsbinary = held5ths.Binary.to_list()\n",
    "np.savetxt(r'allpulsar2.txt', pulsar2.Binary, fmt='%d', delimiter='')"
   ]
  },
  {
   "cell_type": "markdown",
   "id": "9783f54a",
   "metadata": {},
   "source": [
    "#### Pulsar 3 (J0835-4510):"
   ]
  },
  {
   "cell_type": "code",
   "execution_count": null,
   "id": "198223a2",
   "metadata": {},
   "outputs": [],
   "source": [
    "plt.style.use(\"seaborn\")\n",
    "plt.rcParams[\"figure.figsize\"] = (18, 9)\n",
    "\n",
    "fig, ax = plt.subplots(2,1)\n",
    "\n",
    "plot_acf(pulsar3['Brightness'], ax=ax[0])\n",
    "plot_pacf(pulsar3['Brightness'], ax=ax[1], method=\"ols\")"
   ]
  },
  {
   "cell_type": "code",
   "execution_count": null,
   "id": "3d7c515a",
   "metadata": {},
   "outputs": [],
   "source": [
    "acfpulsar = pd.DataFrame()\n",
    "for lag in range(0,11):\n",
    "    acfpulsar[f\"B_lag_{lag}\"] = pulsar3['Brightness'].shift(lag)\n",
    "\n",
    "acfpulsar"
   ]
  },
  {
   "cell_type": "code",
   "execution_count": null,
   "id": "693c8436",
   "metadata": {},
   "outputs": [],
   "source": [
    "acfpulsar.corr()[\"B_lag_0\"].values"
   ]
  },
  {
   "cell_type": "code",
   "execution_count": null,
   "id": "d8afc420",
   "metadata": {},
   "outputs": [],
   "source": [
    "held5ths = pulsar3[pulsar3.index % 5 == 0]"
   ]
  },
  {
   "cell_type": "code",
   "execution_count": null,
   "id": "0b45d502",
   "metadata": {},
   "outputs": [],
   "source": [
    "np.savetxt(r'every5thbinarypulsar3.txt', held5ths.Binary, fmt='%d', delimiter='')\n",
    "pulsar35thsbinary = held5ths.Binary.to_list()\n",
    "np.savetxt(r'allpulsar3.txt', pulsar3.Binary, fmt='%d', delimiter='')"
   ]
  },
  {
   "cell_type": "markdown",
   "id": "e8fa4fc3",
   "metadata": {},
   "source": [
    "#### Pulsar 4 (J1243-6423):"
   ]
  },
  {
   "cell_type": "code",
   "execution_count": null,
   "id": "c92e0961",
   "metadata": {},
   "outputs": [],
   "source": [
    "plt.style.use(\"seaborn\")\n",
    "plt.rcParams[\"figure.figsize\"] = (18, 9)\n",
    "\n",
    "fig, ax = plt.subplots(2,1)\n",
    "\n",
    "plot_acf(pulsar4['Brightness'], ax=ax[0])\n",
    "plot_pacf(pulsar4['Brightness'], ax=ax[1], method=\"ols\")"
   ]
  },
  {
   "cell_type": "code",
   "execution_count": null,
   "id": "afb92b8f",
   "metadata": {},
   "outputs": [],
   "source": [
    "acfpulsar = pd.DataFrame()\n",
    "for lag in range(0,11):\n",
    "    acfpulsar[f\"B_lag_{lag}\"] = pulsar4['Brightness'].shift(lag)\n",
    "\n",
    "acfpulsar"
   ]
  },
  {
   "cell_type": "code",
   "execution_count": null,
   "id": "428cc4b3",
   "metadata": {},
   "outputs": [],
   "source": [
    "acfpulsar.corr()[\"B_lag_0\"].values"
   ]
  },
  {
   "cell_type": "code",
   "execution_count": null,
   "id": "4907988c",
   "metadata": {},
   "outputs": [],
   "source": [
    "held5ths = pulsar4[pulsar4.index % 5 == 0]\n",
    "held10ths = pulsar4[pulsar4.index % 10 == 0]"
   ]
  },
  {
   "cell_type": "code",
   "execution_count": null,
   "id": "22583dc6",
   "metadata": {},
   "outputs": [],
   "source": [
    "np.savetxt(r'every5thbinarypulsar4.txt', held5ths.Binary, fmt='%d', delimiter='')\n",
    "pulsar45thsbinary = held5ths.Binary.to_list()\n",
    "np.savetxt(r'allpulsar4.txt', pulsar4.Binary, fmt='%d', delimiter='')\n",
    "np.savetxt(r'every10thbinarypulsar4.txt', held10ths.Binary, fmt='%d', delimiter='')\n",
    "pulsar410thsbinary = held10ths.Binary.to_list()"
   ]
  },
  {
   "cell_type": "markdown",
   "id": "80ce5cde",
   "metadata": {},
   "source": [
    "\n",
    "#### Pulsar 5 (J1456-6843):"
   ]
  },
  {
   "cell_type": "code",
   "execution_count": null,
   "id": "9852b25f",
   "metadata": {},
   "outputs": [],
   "source": [
    "plt.style.use(\"seaborn\")\n",
    "plt.rcParams[\"figure.figsize\"] = (18, 9)\n",
    "\n",
    "fig, ax = plt.subplots(2,1)\n",
    "\n",
    "plot_acf(pulsar5['Brightness'], ax=ax[0])\n",
    "plot_pacf(pulsar5['Brightness'], ax=ax[1], method=\"ols\")"
   ]
  },
  {
   "cell_type": "code",
   "execution_count": null,
   "id": "1e60c44c",
   "metadata": {},
   "outputs": [],
   "source": [
    "acfpulsar = pd.DataFrame()\n",
    "for lag in range(0,11):\n",
    "    acfpulsar[f\"B_lag_{lag}\"] = pulsar5['Brightness'].shift(lag)\n",
    "\n",
    "acfpulsar"
   ]
  },
  {
   "cell_type": "code",
   "execution_count": null,
   "id": "e6c57d65",
   "metadata": {},
   "outputs": [],
   "source": [
    "acfpulsar.corr()[\"B_lag_0\"].values"
   ]
  },
  {
   "cell_type": "code",
   "execution_count": null,
   "id": "94a7b97f",
   "metadata": {},
   "outputs": [],
   "source": [
    "held5ths = pulsar5[pulsar5.index % 5 == 0]"
   ]
  },
  {
   "cell_type": "code",
   "execution_count": null,
   "id": "6a6c35a3",
   "metadata": {},
   "outputs": [],
   "source": [
    "np.savetxt(r'every5thbinarypulsar5.txt', held5ths.Binary, fmt='%d', delimiter='')\n",
    "pulsar55thsbinary = held5ths.Binary.to_list()\n",
    "np.savetxt(r'allpulsar5.txt', pulsar5.Binary, fmt='%d', delimiter='')"
   ]
  },
  {
   "cell_type": "markdown",
   "id": "d21443ac",
   "metadata": {},
   "source": [
    "\n",
    "#### Pulsar 6 (J1644-4559):"
   ]
  },
  {
   "cell_type": "code",
   "execution_count": null,
   "id": "c10a0937",
   "metadata": {},
   "outputs": [],
   "source": [
    "plt.style.use(\"seaborn\")\n",
    "plt.rcParams[\"figure.figsize\"] = (18, 9)\n",
    "\n",
    "fig, ax = plt.subplots(2,1)\n",
    "\n",
    "plot_acf(pulsar6['Brightness'], ax=ax[0])\n",
    "plot_pacf(pulsar6['Brightness'], ax=ax[1], method=\"ols\")"
   ]
  },
  {
   "cell_type": "code",
   "execution_count": null,
   "id": "94c82ccd",
   "metadata": {},
   "outputs": [],
   "source": [
    "acfpulsar = pd.DataFrame()\n",
    "for lag in range(0,11):\n",
    "    acfpulsar[f\"B_lag_{lag}\"] = pulsar6['Brightness'].shift(lag)\n",
    "\n",
    "acfpulsar"
   ]
  },
  {
   "cell_type": "code",
   "execution_count": null,
   "id": "1bb15c68",
   "metadata": {},
   "outputs": [],
   "source": [
    "acfpulsar.corr()[\"B_lag_0\"].values"
   ]
  },
  {
   "cell_type": "code",
   "execution_count": null,
   "id": "eb81bcd2",
   "metadata": {},
   "outputs": [],
   "source": [
    "held5ths = pulsar6[pulsar6.index % 5 == 0]"
   ]
  },
  {
   "cell_type": "code",
   "execution_count": null,
   "id": "9889fa27",
   "metadata": {},
   "outputs": [],
   "source": [
    "np.savetxt(r'every5thbinarypulsar6.txt', held5ths.Binary, fmt='%d', delimiter='')\n",
    "pulsar65thsbinary = held5ths.Binary.to_list()\n",
    "np.savetxt(r'allpulsar6.txt', pulsar6.Binary, fmt='%d', delimiter='')"
   ]
  },
  {
   "cell_type": "markdown",
   "id": "e4f1d8ba",
   "metadata": {},
   "source": [
    "### RandTest and export"
   ]
  },
  {
   "cell_type": "code",
   "execution_count": null,
   "id": "4f2d4fad",
   "metadata": {},
   "outputs": [],
   "source": [
    "import randtest\n",
    "\n",
    "pulsar1binary = pulsar.Binary.to_list()\n",
    "pulsar2binary = pulsar2.Binary.to_list()\n",
    "pulsar3binary = pulsar3.Binary.to_list()\n",
    "pulsar4binary = pulsar4.Binary.to_list()\n",
    "pulsar5binary = pulsar5.Binary.to_list()\n",
    "pulsar6binary = pulsar6.Binary.to_list()\n",
    "\n",
    "randtest1 = randtest.random_score(pulsar1binary)\n",
    "randtest2 = randtest.random_score(pulsar2binary)\n",
    "randtest3 = randtest.random_score(pulsar3binary)\n",
    "randtest4 = randtest.random_score(pulsar4binary)\n",
    "randtest5 = randtest.random_score(pulsar5binary)\n",
    "randtest6 = randtest.random_score(pulsar6binary)\n",
    "\n",
    "randtest15ths = randtest.random_score(pulsar15thsbinary)\n",
    "randtest25ths = randtest.random_score(pulsar25thsbinary)\n",
    "randtest35ths = randtest.random_score(pulsar35thsbinary)\n",
    "randtest45ths = randtest.random_score(pulsar45thsbinary)\n",
    "randtest55ths = randtest.random_score(pulsar55thsbinary)\n",
    "randtest65ths = randtest.random_score(pulsar65thsbinary)\n",
    "\n",
    "randtest410ths = randtest.random_score(pulsar410thsbinary)\n",
    "\n",
    "print(\"All pulsar 1 RandTest Evaluation:\", randtest1)\n",
    "#print(randtest2)\n",
    "#print(randtest3)\n",
    "#print(randtest4)\n",
    "#print(randtest5)\n",
    "#print(randtest6)\n",
    "print(\"every 5th pulsar 1 RandTest Evaluation:\", randtest15ths)\n",
    "#print(randtest25ths)\n",
    "#print(randtest35ths)\n",
    "#print(randtest45ths)\n",
    "#print(randtest410ths)\n",
    "#print(randtest55ths)\n",
    "#print(randtest65ths)\n",
    "\n",
    "randtestAll = [randtest1, randtest2, randtest3, randtest4, randtest5, randtest6]\n",
    "randtest5ths = [randtest15ths, randtest25ths, randtest35ths, randtest45ths, randtest55ths, randtest65ths]\n",
    "randtestElse = [\"Null\", \"Null\", \"Null\", randtest410ths, \"Null\", \"Null\"]\n",
    "\n",
    "print(randtestAll)\n",
    "print(randtest5ths)\n",
    "print(randtestElse)\n",
    "\n",
    "randTestAll = pd.Series(randtestAll)\n",
    "randTest5ths = pd.Series(randtest5ths)\n",
    "randTestElse = pd.Series(randtestElse)"
   ]
  },
  {
   "cell_type": "code",
   "execution_count": null,
   "id": "bb902416",
   "metadata": {},
   "outputs": [],
   "source": [
    "frame = {'RandTestAll' : randTestAll, 'RandTest5ths' : randTest5ths, 'RandTestElse' : randTestElse}\n",
    "RandtestResults = pd.DataFrame(frame)\n",
    "RandtestResults.to_csv('RandTestResults.csv', index=False)"
   ]
  },
  {
   "cell_type": "markdown",
   "id": "77c1c073",
   "metadata": {},
   "source": [
    "### NIST CSV Results Import"
   ]
  },
  {
   "cell_type": "code",
   "execution_count": null,
   "id": "b441f6c9",
   "metadata": {},
   "outputs": [],
   "source": [
    "pulsar1_all = pd.read_csv(\"pulsaryBinaryDataResultsCSV/PULSAR1_Tested_All.csv\")\n",
    "pulsar1_5th = pd.read_csv(\"pulsaryBinaryDataResultsCSV/PULSAR1_Tested_5ths.csv\")\n",
    "pulsar2_all = pd.read_csv(\"pulsaryBinaryDataResultsCSV/PULSAR2_Tested_All.csv\")\n",
    "pulsar2_5th = pd.read_csv(\"pulsaryBinaryDataResultsCSV/PULSAR2_Tested_5ths.csv\")\n",
    "pulsar3_all = pd.read_csv(\"pulsaryBinaryDataResultsCSV/PULSAR3_Tested_All.csv\")\n",
    "pulsar3_5th = pd.read_csv(\"pulsaryBinaryDataResultsCSV/PULSAR3_Tested_5ths.csv\")\n",
    "pulsar4_all = pd.read_csv(\"pulsaryBinaryDataResultsCSV/PULSAR4_Tested_All.csv\")\n",
    "pulsar4_5th = pd.read_csv(\"pulsaryBinaryDataResultsCSV/PULSAR4_Tested_5ths.csv\")\n",
    "pulsar5_all = pd.read_csv(\"pulsaryBinaryDataResultsCSV/PULSAR5_Tested_All.csv\")\n",
    "pulsar5_5th = pd.read_csv(\"pulsaryBinaryDataResultsCSV/PULSAR5_Tested_5ths.csv\")\n",
    "pulsar4_10th = pd.read_csv(\"pulsaryBinaryDataResultsCSV/PULSAR4_Tested_10ths.csv\")\n",
    "pulsar6_all = pd.read_csv(\"pulsaryBinaryDataResultsCSV/PULSAR6_Tested_All.csv\")\n",
    "pulsar6_5th = pd.read_csv(\"pulsaryBinaryDataResultsCSV/PULSAR6_Tested_5ths.csv\")"
   ]
  },
  {
   "cell_type": "markdown",
   "id": "009f2bb8",
   "metadata": {},
   "source": [
    "#### Pulsar 1 (J0437-4715):"
   ]
  },
  {
   "cell_type": "code",
   "execution_count": null,
   "id": "05effad5",
   "metadata": {},
   "outputs": [],
   "source": [
    "pulsar1_all"
   ]
  },
  {
   "cell_type": "code",
   "execution_count": null,
   "id": "85ca9981",
   "metadata": {},
   "outputs": [],
   "source": [
    "pulsar1_5th"
   ]
  },
  {
   "cell_type": "markdown",
   "id": "8f6bfe20",
   "metadata": {},
   "source": [
    "#### Pulsar 2 (J0953+0755):"
   ]
  },
  {
   "cell_type": "code",
   "execution_count": null,
   "id": "1142ec1a",
   "metadata": {},
   "outputs": [],
   "source": [
    "pulsar2_all"
   ]
  },
  {
   "cell_type": "code",
   "execution_count": null,
   "id": "05b98ad1",
   "metadata": {},
   "outputs": [],
   "source": [
    "pulsar2_5th"
   ]
  },
  {
   "cell_type": "markdown",
   "id": "b1f1734e",
   "metadata": {},
   "source": [
    "#### Pulsar 3 (J0835-4510):"
   ]
  },
  {
   "cell_type": "code",
   "execution_count": null,
   "id": "977a2104",
   "metadata": {},
   "outputs": [],
   "source": [
    "pulsar3_all"
   ]
  },
  {
   "cell_type": "code",
   "execution_count": null,
   "id": "5bbd9eb9",
   "metadata": {},
   "outputs": [],
   "source": [
    "pulsar3_5th"
   ]
  },
  {
   "cell_type": "markdown",
   "id": "ebd8cc02",
   "metadata": {},
   "source": [
    "#### Pulsar 4 (J1243-6423):"
   ]
  },
  {
   "cell_type": "code",
   "execution_count": null,
   "id": "250d6888",
   "metadata": {},
   "outputs": [],
   "source": [
    "pulsar4_all"
   ]
  },
  {
   "cell_type": "code",
   "execution_count": null,
   "id": "f005f097",
   "metadata": {},
   "outputs": [],
   "source": [
    "pulsar4_5th"
   ]
  },
  {
   "cell_type": "code",
   "execution_count": null,
   "id": "07cd708f",
   "metadata": {},
   "outputs": [],
   "source": [
    "pulsar4_10th"
   ]
  },
  {
   "cell_type": "markdown",
   "id": "5024d1d5",
   "metadata": {},
   "source": [
    "\n",
    "#### Pulsar 5 (J1456-6843):"
   ]
  },
  {
   "cell_type": "code",
   "execution_count": null,
   "id": "2ab6b495",
   "metadata": {},
   "outputs": [],
   "source": [
    "pulsar5_all"
   ]
  },
  {
   "cell_type": "code",
   "execution_count": null,
   "id": "7ff5f26f",
   "metadata": {},
   "outputs": [],
   "source": [
    "pulsar5_5th"
   ]
  },
  {
   "cell_type": "markdown",
   "id": "7e5fc096",
   "metadata": {},
   "source": [
    "#### Pulsar 6 (J1644-4559):"
   ]
  },
  {
   "cell_type": "code",
   "execution_count": null,
   "id": "8eff49e6",
   "metadata": {},
   "outputs": [],
   "source": [
    "pulsar6_all"
   ]
  },
  {
   "cell_type": "code",
   "execution_count": null,
   "id": "76944842",
   "metadata": {},
   "outputs": [],
   "source": [
    "pulsar6_5th"
   ]
  }
 ],
 "metadata": {
  "kernelspec": {
   "display_name": "Python 3.9.7 ('base')",
   "language": "python",
   "name": "python3"
  },
  "language_info": {
   "codemirror_mode": {
    "name": "ipython",
    "version": 3
   },
   "file_extension": ".py",
   "mimetype": "text/x-python",
   "name": "python",
   "nbconvert_exporter": "python",
   "pygments_lexer": "ipython3",
   "version": "3.9.7"
  },
  "vscode": {
   "interpreter": {
    "hash": "3196f04605bea9b17a92b569b5399b8b932106c7bb5be43f567c8aee90a344ba"
   }
  }
 },
 "nbformat": 4,
 "nbformat_minor": 5
}
